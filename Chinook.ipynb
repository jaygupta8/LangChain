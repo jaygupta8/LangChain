{
  "nbformat": 4,
  "nbformat_minor": 0,
  "metadata": {
    "colab": {
      "provenance": [],
      "authorship_tag": "ABX9TyMjcFIGSqJ4n6b/GGoiDhWS"
    },
    "kernelspec": {
      "name": "python3",
      "display_name": "Python 3"
    },
    "language_info": {
      "name": "python"
    }
  },
  "cells": [
    {
      "cell_type": "code",
      "source": [
        "import sqlite3\n",
        "\n",
        "# Connect to an existing database file\n",
        "conn = sqlite3.connect('Chinook.db')\n",
        "\n",
        "# Create a cursor object to execute SQL queries\n",
        "cursor = conn.cursor()\n",
        "\n",
        "# Execute a SELECT query\n",
        "cursor.execute('SELECT * FROM Artist LIMIT 10')\n",
        "\n",
        "# Fetch the query results\n",
        "rows = cursor.fetchall()\n",
        "\n",
        "# Print the results\n",
        "for row in rows:\n",
        "    print(row)\n",
        "\n",
        "# Close the cursor and database connection\n",
        "cursor.close()\n",
        "conn.close()"
      ],
      "metadata": {
        "colab": {
          "base_uri": "https://localhost:8080/"
        },
        "id": "F84LdjvpYNdT",
        "outputId": "67f591ae-a36d-4fdc-cfe7-1fcb552a1403"
      },
      "execution_count": null,
      "outputs": [
        {
          "output_type": "stream",
          "name": "stdout",
          "text": [
            "(1, 'AC/DC')\n",
            "(2, 'Accept')\n",
            "(3, 'Aerosmith')\n",
            "(4, 'Alanis Morissette')\n",
            "(5, 'Alice In Chains')\n",
            "(6, 'Antônio Carlos Jobim')\n",
            "(7, 'Apocalyptica')\n",
            "(8, 'Audioslave')\n",
            "(9, 'BackBeat')\n",
            "(10, 'Billy Cobham')\n"
          ]
        }
      ]
    },
    {
      "cell_type": "code",
      "source": [
        "pip install langchain openai"
      ],
      "metadata": {
        "colab": {
          "base_uri": "https://localhost:8080/"
        },
        "id": "pBeG0sL9-85X",
        "outputId": "4a77f72c-1d13-4530-8268-afde2a03da6c"
      },
      "execution_count": null,
      "outputs": [
        {
          "output_type": "stream",
          "name": "stdout",
          "text": [
            "Requirement already satisfied: langchain in /usr/local/lib/python3.10/dist-packages (0.0.240)\n",
            "Requirement already satisfied: openai in /usr/local/lib/python3.10/dist-packages (0.27.8)\n",
            "Requirement already satisfied: PyYAML>=5.4.1 in /usr/local/lib/python3.10/dist-packages (from langchain) (6.0.1)\n",
            "Requirement already satisfied: SQLAlchemy<3,>=1.4 in /usr/local/lib/python3.10/dist-packages (from langchain) (2.0.19)\n",
            "Requirement already satisfied: aiohttp<4.0.0,>=3.8.3 in /usr/local/lib/python3.10/dist-packages (from langchain) (3.8.4)\n",
            "Requirement already satisfied: async-timeout<5.0.0,>=4.0.0 in /usr/local/lib/python3.10/dist-packages (from langchain) (4.0.2)\n",
            "Requirement already satisfied: dataclasses-json<0.6.0,>=0.5.7 in /usr/local/lib/python3.10/dist-packages (from langchain) (0.5.13)\n",
            "Requirement already satisfied: langsmith<0.1.0,>=0.0.11 in /usr/local/lib/python3.10/dist-packages (from langchain) (0.0.14)\n",
            "Requirement already satisfied: numexpr<3.0.0,>=2.8.4 in /usr/local/lib/python3.10/dist-packages (from langchain) (2.8.4)\n",
            "Requirement already satisfied: numpy<2,>=1 in /usr/local/lib/python3.10/dist-packages (from langchain) (1.22.4)\n",
            "Requirement already satisfied: openapi-schema-pydantic<2.0,>=1.2 in /usr/local/lib/python3.10/dist-packages (from langchain) (1.2.4)\n",
            "Requirement already satisfied: pydantic<2,>=1 in /usr/local/lib/python3.10/dist-packages (from langchain) (1.10.11)\n",
            "Requirement already satisfied: requests<3,>=2 in /usr/local/lib/python3.10/dist-packages (from langchain) (2.27.1)\n",
            "Requirement already satisfied: tenacity<9.0.0,>=8.1.0 in /usr/local/lib/python3.10/dist-packages (from langchain) (8.2.2)\n",
            "Requirement already satisfied: tqdm in /usr/local/lib/python3.10/dist-packages (from openai) (4.65.0)\n",
            "Requirement already satisfied: attrs>=17.3.0 in /usr/local/lib/python3.10/dist-packages (from aiohttp<4.0.0,>=3.8.3->langchain) (23.1.0)\n",
            "Requirement already satisfied: charset-normalizer<4.0,>=2.0 in /usr/local/lib/python3.10/dist-packages (from aiohttp<4.0.0,>=3.8.3->langchain) (2.0.12)\n",
            "Requirement already satisfied: multidict<7.0,>=4.5 in /usr/local/lib/python3.10/dist-packages (from aiohttp<4.0.0,>=3.8.3->langchain) (6.0.4)\n",
            "Requirement already satisfied: yarl<2.0,>=1.0 in /usr/local/lib/python3.10/dist-packages (from aiohttp<4.0.0,>=3.8.3->langchain) (1.9.2)\n",
            "Requirement already satisfied: frozenlist>=1.1.1 in /usr/local/lib/python3.10/dist-packages (from aiohttp<4.0.0,>=3.8.3->langchain) (1.4.0)\n",
            "Requirement already satisfied: aiosignal>=1.1.2 in /usr/local/lib/python3.10/dist-packages (from aiohttp<4.0.0,>=3.8.3->langchain) (1.3.1)\n",
            "Requirement already satisfied: marshmallow<4.0.0,>=3.18.0 in /usr/local/lib/python3.10/dist-packages (from dataclasses-json<0.6.0,>=0.5.7->langchain) (3.20.1)\n",
            "Requirement already satisfied: typing-inspect<1,>=0.4.0 in /usr/local/lib/python3.10/dist-packages (from dataclasses-json<0.6.0,>=0.5.7->langchain) (0.9.0)\n",
            "Requirement already satisfied: typing-extensions>=4.2.0 in /usr/local/lib/python3.10/dist-packages (from pydantic<2,>=1->langchain) (4.7.1)\n",
            "Requirement already satisfied: urllib3<1.27,>=1.21.1 in /usr/local/lib/python3.10/dist-packages (from requests<3,>=2->langchain) (1.26.16)\n",
            "Requirement already satisfied: certifi>=2017.4.17 in /usr/local/lib/python3.10/dist-packages (from requests<3,>=2->langchain) (2023.5.7)\n",
            "Requirement already satisfied: idna<4,>=2.5 in /usr/local/lib/python3.10/dist-packages (from requests<3,>=2->langchain) (3.4)\n",
            "Requirement already satisfied: greenlet!=0.4.17 in /usr/local/lib/python3.10/dist-packages (from SQLAlchemy<3,>=1.4->langchain) (2.0.2)\n",
            "Requirement already satisfied: packaging>=17.0 in /usr/local/lib/python3.10/dist-packages (from marshmallow<4.0.0,>=3.18.0->dataclasses-json<0.6.0,>=0.5.7->langchain) (23.1)\n",
            "Requirement already satisfied: mypy-extensions>=0.3.0 in /usr/local/lib/python3.10/dist-packages (from typing-inspect<1,>=0.4.0->dataclasses-json<0.6.0,>=0.5.7->langchain) (1.0.0)\n"
          ]
        }
      ]
    },
    {
      "cell_type": "code",
      "source": [
        "from langchain.sql_database import SQLDatabase\n",
        "from langchain.chat_models import ChatOpenAI\n",
        "from langchain import SQLDatabaseChain\n",
        "from langchain.chains import SQLDatabaseSequentialChain\n",
        "from urllib.parse import quote\n",
        "from sqlalchemy import create_engine, select, Table, MetaData, Column, String\n",
        "import os\n",
        "\n",
        "\n",
        "os.environ['OPENAI_API_KEY'] = \"your_key\"\n",
        "\n",
        "\n"
      ],
      "metadata": {
        "id": "zc8dMM_ham1g"
      },
      "execution_count": null,
      "outputs": []
    },
    {
      "cell_type": "code",
      "source": [],
      "metadata": {
        "id": "s-p-tEHTFwFJ"
      },
      "execution_count": null,
      "outputs": []
    },
    {
      "cell_type": "code",
      "source": [
        "db_chain(\"Find the top 5 customers who have spent the most on Rock music, listing their total spend, and the details of the employee who supports them.\")"
      ],
      "metadata": {
        "id": "4-vaNPwBtIzL",
        "colab": {
          "base_uri": "https://localhost:8080/"
        },
        "outputId": "b6db1850-8e66-4769-c67a-2690c1b2411f"
      },
      "execution_count": null,
      "outputs": [
        {
          "output_type": "stream",
          "name": "stdout",
          "text": [
            "\n",
            "\n",
            "\u001b[1m> Entering new SQLDatabaseChain chain...\u001b[0m\n",
            "Find the top 5 customers who have spent the most on Rock music, listing their total spend, and the details of the employee who supports them.\n",
            "SQLQuery:\u001b[32;1m\u001b[1;3mWITH CustomerRockSpend AS (\n",
            "    SELECT c.CustomerId, c.FirstName || ' ' || c.LastName AS CustomerName, SUM(il.UnitPrice) AS TotalSpend, c.SupportRepId\n",
            "    FROM Customer c\n",
            "    JOIN Invoice i ON c.CustomerId = i.CustomerId\n",
            "    JOIN InvoiceLine il ON i.InvoiceId = il.InvoiceId\n",
            "    JOIN Track t ON il.TrackId = t.TrackId\n",
            "    JOIN Genre g ON t.GenreId = g.GenreId\n",
            "    WHERE g.Name = 'Rock'\n",
            "    GROUP BY c.CustomerId\n",
            "    ORDER BY TotalSpend DESC\n",
            "    LIMIT 5\n",
            ")\n",
            "SELECT crs.CustomerName, crs.TotalSpend, e.FirstName || ' ' || e.LastName AS EmployeeName\n",
            "FROM CustomerRockSpend crs\n",
            "JOIN Employee e ON crs.SupportRepId = e.EmployeeId;\u001b[0m\n",
            "SQLResult: \u001b[33;1m\u001b[1;3m[('Eduardo Martins', 28.709999999999983, 'Margaret Park'), ('Robert Brown', 24.74999999999999, 'Jane Peacock'), ('Mark Taylor', 21.779999999999994, 'Margaret Park'), ('Enrique Muñoz', 21.779999999999994, 'Steve Johnson'), ('Stanisław Wójcik', 21.779999999999994, 'Margaret Park')]\u001b[0m\n",
            "Answer:\u001b[32;1m\u001b[1;3mThe top 5 customers who have spent the most on Rock music, along with their total spend and the details of the employee who supports them, are as follows:\n",
            "\n",
            "1. Customer: Eduardo Martins, Total Spend: $28.71, Employee: Margaret Park\n",
            "2. Customer: Robert Brown, Total Spend: $24.75, Employee: Jane Peacock\n",
            "3. Customer: Mark Taylor, Total Spend: $21.78, Employee: Margaret Park\n",
            "4. Customer: Enrique Muñoz, Total Spend: $21.78, Employee: Steve Johnson\n",
            "5. Customer: Stanisław Wójcik, Total Spend: $21.78, Employee: Margaret Park\u001b[0m\n",
            "\u001b[1m> Finished chain.\u001b[0m\n"
          ]
        },
        {
          "output_type": "execute_result",
          "data": {
            "text/plain": [
              "{'query': 'Find the top 5 customers who have spent the most on Rock music, listing their total spend, and the details of the employee who supports them.',\n",
              " 'result': 'The top 5 customers who have spent the most on Rock music, along with their total spend and the details of the employee who supports them, are as follows:\\n\\n1. Customer: Eduardo Martins, Total Spend: $28.71, Employee: Margaret Park\\n2. Customer: Robert Brown, Total Spend: $24.75, Employee: Jane Peacock\\n3. Customer: Mark Taylor, Total Spend: $21.78, Employee: Margaret Park\\n4. Customer: Enrique Muñoz, Total Spend: $21.78, Employee: Steve Johnson\\n5. Customer: Stanisław Wójcik, Total Spend: $21.78, Employee: Margaret Park'}"
            ]
          },
          "metadata": {},
          "execution_count": 223
        }
      ]
    },
    {
      "cell_type": "code",
      "source": [
        "from langchain.memory import ConversationBufferMemory\n",
        "\n",
        "memory = ConversationBufferMemory()"
      ],
      "metadata": {
        "id": "h_Bhz5DnIKWk"
      },
      "execution_count": null,
      "outputs": []
    },
    {
      "cell_type": "code",
      "source": [
        "from langchain.prompts.prompt import PromptTemplate\n",
        "\n",
        "\n",
        "_DEFAULT_TEMPLATE = \"\"\"You are a SQL expert. Given an input question, first understand the question, examine all the table names in the database, then create a syntactically correct {dialect} query to run, then analyze the results of the query and return the answer.\n",
        "Do not use aliases that are reserved keywords in SQL. Pay close attention to the database schema. Use the following format:\n",
        "Question: \"Question here\"\n",
        "SQLQuery: \"SQL Query to run\"\n",
        "SQLResult: \"Result of the SQLQuery\"\n",
        "Answer: \"Final answer here\"\n",
        "\n",
        "{table_info}\n",
        "Below are all the tables and their respective joins between the primary key and foreign key in the database:\n",
        "'Album' table's 'ArtistId' with 'Artist' table's 'ArtistId'\n",
        "'Customer' table's 'SupportRepId' with 'Employee' table's 'EmployeeId'\n",
        "'Employee' table's 'ReportsTo' with 'Employee' table's 'EmployeeId'\n",
        "'Invoice' table's 'CustomerId' with 'Customer' table's 'CustomerId'\n",
        "'InvoiceLine' table's 'TrackId' with 'Track' table's 'TrackId'\n",
        "'InvoiceLine' table's 'InvoiceId' with 'Invoice' table's 'InvoiceId'\n",
        "'PlaylistTrack' table's 'TrackId' with 'Track' table's 'TrackId'\n",
        "'PlaylistTrack' table's 'PlaylistId' with 'Playlist' table's 'PlaylistId'\n",
        "'Track' table's 'MediaTypeId' with 'MediaType' table's 'MediaTypeId'\n",
        "'Track' table's 'GenreId' with 'Genre' table's 'GenreId'\n",
        "'Track' table's 'AlbumId' with 'Album' table's 'AlbumId'\n",
        "Differentiate between audio and video tracks based on the 'MediaType' table.\n",
        "\n",
        "Below are a few examples of Expert level queries:\n",
        "\n",
        "Query#1:\n",
        "WITH AlbumSales AS (\n",
        "    SELECT\n",
        "        Album.AlbumId,\n",
        "        MIN(Invoice.InvoiceDate) AS FirstSale,\n",
        "        MAX(Invoice.InvoiceDate) AS LastSale,\n",
        "        COUNT(*) AS Sales\n",
        "    FROM\n",
        "        InvoiceLine\n",
        "    JOIN\n",
        "        Invoice ON InvoiceLine.InvoiceId = Invoice.InvoiceId\n",
        "    JOIN\n",
        "        Track ON InvoiceLine.TrackId = Track.TrackId\n",
        "    JOIN\n",
        "        Album ON Track.AlbumId = Album.AlbumId\n",
        "    GROUP BY\n",
        "        Album.AlbumId\n",
        "    HAVING\n",
        "        Sales > 1 -- Consider only albums with more than one sale\n",
        "),\n",
        "SalesIntervals AS (\n",
        "    SELECT\n",
        "        AlbumId,\n",
        "        Sales,\n",
        "        (JulianDay(LastSale) - JulianDay(FirstSale)) / (Sales - 1) AS AvgDaysBetweenSales\n",
        "    FROM\n",
        "        AlbumSales\n",
        ")\n",
        "SELECT\n",
        "    Album.Title AS Album,\n",
        "    Artist.Name AS Artist,\n",
        "    SalesIntervals.Sales,\n",
        "    SalesIntervals.AvgDaysBetweenSales\n",
        "FROM\n",
        "    SalesIntervals\n",
        "JOIN\n",
        "    Album ON SalesIntervals.AlbumId = Album.AlbumId\n",
        "JOIN\n",
        "    Artist ON Album.ArtistId = Artist.ArtistId\n",
        "ORDER BY\n",
        "    AvgDaysBetweenSales ASC;\n",
        "\n",
        "Query#2:\n",
        "WITH CustomerAlbumCounts AS (\n",
        "    SELECT c.CustomerId, a.AlbumId, COUNT(*) as Count\n",
        "    FROM Invoice i\n",
        "    JOIN Customer c ON i.CustomerId = c.CustomerId\n",
        "    JOIN InvoiceLine il ON i.InvoiceId = il.InvoiceId\n",
        "    JOIN Track t ON il.TrackId = t.TrackId\n",
        "    JOIN Album a ON t.AlbumId = a.AlbumId\n",
        "    GROUP BY c.CustomerId, a.AlbumId\n",
        ")\n",
        "\n",
        "SELECT c1.CustomerId as CustomerId1, c1.FirstName || ' ' || c1.LastName as CustomerName1,\n",
        "       c2.CustomerId as CustomerId2, c2.FirstName || ' ' || c2.LastName as CustomerName2,\n",
        "       a.Title as Album, cac1.Count + cac2.Count as TotalCount\n",
        "FROM CustomerAlbumCounts cac1\n",
        "JOIN CustomerAlbumCounts cac2 ON cac1.AlbumId = cac2.AlbumId AND cac1.CustomerId < cac2.CustomerId\n",
        "JOIN Customer c1 ON cac1.CustomerId = c1.CustomerId\n",
        "JOIN Customer c2 ON cac2.CustomerId = c2.CustomerId\n",
        "JOIN Album a ON cac1.AlbumId = a.AlbumId\n",
        "ORDER BY TotalCount DESC;\n",
        "\n",
        "Query#3:\n",
        "WITH ArtistPurchaseDates AS (\n",
        "    SELECT i.InvoiceDate, a.ArtistId, COUNT(*) as Count\n",
        "    FROM Invoice i\n",
        "    JOIN InvoiceLine il ON i.InvoiceId = il.InvoiceId\n",
        "    JOIN Track t ON il.TrackId = t.TrackId\n",
        "    JOIN Album a ON t.AlbumId = a.AlbumId\n",
        "    GROUP BY i.InvoiceDate, a.ArtistId\n",
        ")\n",
        "SELECT ar1.Name as Artist1, ar2.Name as Artist2, SUM(apd1.Count + apd2.Count) as TotalCount\n",
        "FROM ArtistPurchaseDates apd1\n",
        "JOIN ArtistPurchaseDates apd2 ON apd1.InvoiceDate = apd2.InvoiceDate AND apd1.ArtistId < apd2.ArtistId\n",
        "JOIN Artist ar1 ON apd1.ArtistId = ar1.ArtistId\n",
        "JOIN Artist ar2 ON apd2.ArtistId = ar2.ArtistId\n",
        "GROUP BY apd1.ArtistId, apd2.ArtistId\n",
        "ORDER BY TotalCount DESC;\n",
        "\n",
        "Query#4:\n",
        "SELECT Artist.Name, Track.Name, SUM(InvoiceLine.UnitPrice * InvoiceLine.Quantity) AS Revenue\n",
        "FROM Track\n",
        "JOIN Album ON Track.AlbumId=Album.AlbumId\n",
        "JOIN Artist ON Album.ArtistId = Artist.ArtistId and track.Composer=Artist.Name\n",
        "JOIN InvoiceLine on Track.TrackId=InvoiceLine.TrackId\n",
        "group by Artist.Name, Track.Name\n",
        "order by Revenue DESC;\n",
        "\n",
        "Question: {input}\"\"\"\"\"\n",
        "PROMPT = PromptTemplate(\n",
        "    input_variables=[\"input\", \"table_info\", \"dialect\"], template=_DEFAULT_TEMPLATE\n",
        ")"
      ],
      "metadata": {
        "id": "jnqBZ_WUSeA4"
      },
      "execution_count": null,
      "outputs": []
    },
    {
      "cell_type": "code",
      "source": [
        "from langchain.agents import create_sql_agent\n",
        "from langchain.agents.agent_toolkits import SQLDatabaseToolkit\n",
        "from langchain.sql_database import SQLDatabase\n",
        "from langchain.llms.openai import OpenAI\n",
        "from langchain.agents import AgentExecutor\n",
        "from langchain.agents.agent_types import AgentType\n",
        "from langchain.chat_models import ChatOpenAI\n",
        "\n",
        "db = SQLDatabase.from_uri(\"sqlite:///./Chinook.db\")\n",
        "\n",
        "toolkit = SQLDatabaseToolkit(db=db, llm=OpenAI(temperature=0, model_name='gpt-3.5-turbo-16k-0613'))\n",
        "db_chain = SQLDatabaseChain(llm=ChatOpenAI(temperature=0, model_name='gpt-3.5-turbo-16k-0613'), database=db, memory=memory, verbose=True, prompt=PROMPT)\n",
        "\n",
        "agent_executor = create_sql_agent(\n",
        "     llm=ChatOpenAI(temperature=0, model=\"gpt-3.5-turbo-16k-0613\"),\n",
        "     toolkit=toolkit,\n",
        "     verbose=True,\n",
        "     sql_chain=db_chain,\n",
        "     agent_type=AgentType.OPENAI_FUNCTIONS,\n",
        "     memory=memory)"
      ],
      "metadata": {
        "id": "1ndD_qCoLtCs"
      },
      "execution_count": null,
      "outputs": []
    },
    {
      "cell_type": "code",
      "source": [
        "result = db_chain(\"For Rock, what are the top 3 tracks that have the longest duration?\")\n",
        "\n",
        "tracks = result['result'].split(',')\n",
        "for track in tracks:\n",
        "    print(track.strip())\n"
      ],
      "metadata": {
        "id": "gBGS3YTuIMN6",
        "colab": {
          "base_uri": "https://localhost:8080/"
        },
        "outputId": "ab29a2ca-f3d9-43e9-973d-6e76b64baaeb"
      },
      "execution_count": null,
      "outputs": [
        {
          "output_type": "stream",
          "name": "stdout",
          "text": [
            "\n",
            "\n",
            "\u001b[1m> Entering new SQLDatabaseChain chain...\u001b[0m\n",
            "For Rock, what are the top 3 tracks that have the longest duration?\n",
            "SQLQuery:\u001b[32;1m\u001b[1;3mWITH RockTracks AS (\n",
            "    SELECT\n",
            "        Track.Name,\n",
            "        Track.Milliseconds\n",
            "    FROM\n",
            "        Track\n",
            "    JOIN\n",
            "        Genre ON Track.GenreId = Genre.GenreId\n",
            "    WHERE\n",
            "        Genre.Name = 'Rock'\n",
            ")\n",
            "SELECT\n",
            "    Name,\n",
            "    Milliseconds\n",
            "FROM\n",
            "    RockTracks\n",
            "ORDER BY\n",
            "    Milliseconds DESC\n",
            "LIMIT 3;\u001b[0m\n",
            "SQLResult: \u001b[33;1m\u001b[1;3m[('Dazed And Confused', 1612329), (\"Space Truckin'\", 1196094), ('Dazed And Confused', 1116734)]\u001b[0m\n",
            "Answer:\u001b[32;1m\u001b[1;3mThe top 3 tracks in the Rock genre with the longest duration are:\n",
            "1. \"Dazed And Confused\" with a duration of 1612329 milliseconds\n",
            "2. \"Space Truckin'\" with a duration of 1196094 milliseconds\n",
            "3. \"Dazed And Confused\" with a duration of 1116734 milliseconds\u001b[0m\n",
            "\u001b[1m> Finished chain.\u001b[0m\n",
            "The top 3 tracks in the Rock genre with the longest duration are:\n",
            "1. \"Dazed And Confused\" with a duration of 1612329 milliseconds\n",
            "2. \"Space Truckin'\" with a duration of 1196094 milliseconds\n",
            "3. \"Dazed And Confused\" with a duration of 1116734 milliseconds\n"
          ]
        }
      ]
    },
    {
      "cell_type": "code",
      "source": [
        "chain.run(\"For each customer in Argentina, what was their first invoice and how much was it?\")"
      ],
      "metadata": {
        "colab": {
          "base_uri": "https://localhost:8080/",
          "height": 401
        },
        "id": "KubxenYfO5Xf",
        "outputId": "8d45ca8a-a4a4-4feb-d798-21de6a09bd3a"
      },
      "execution_count": null,
      "outputs": [
        {
          "output_type": "stream",
          "name": "stdout",
          "text": [
            "\n",
            "\n",
            "\u001b[1m> Entering new SQLDatabaseSequentialChain chain...\u001b[0m\n"
          ]
        },
        {
          "output_type": "stream",
          "name": "stderr",
          "text": [
            "/usr/local/lib/python3.10/dist-packages/langchain/chains/llm.py:275: UserWarning: The predict_and_parse method is deprecated, instead pass an output parser directly to LLMChain.\n",
            "  warnings.warn(\n"
          ]
        },
        {
          "output_type": "stream",
          "name": "stdout",
          "text": [
            "Table names to use:\n",
            "\u001b[33;1m\u001b[1;3m['Customer', 'Invoice', 'InvoiceLine']\u001b[0m\n",
            "\n",
            "\u001b[1m> Entering new SQLDatabaseChain chain...\u001b[0m\n",
            "For each customer in Argentina, what was their first invoice and how much was it?\n",
            "SQLQuery:\u001b[32;1m\u001b[1;3mSELECT c.FirstName, c.LastName, MIN(i.InvoiceDate) AS FirstInvoiceDate, MIN(i.Total) AS FirstInvoiceTotal\n",
            "FROM Customer c\n",
            "JOIN Invoice i ON c.CustomerId = i.CustomerId\n",
            "WHERE c.Country = 'Argentina'\n",
            "GROUP BY c.CustomerId\u001b[0m\n",
            "SQLResult: \u001b[33;1m\u001b[1;3m[('Diego', 'Gutiérrez', '2010-06-12 00:00:00', 0.99)]\u001b[0m\n",
            "Answer:\u001b[32;1m\u001b[1;3mFor each customer in Argentina, their first invoice was on June 12, 2010, and the total amount was $0.99.\u001b[0m\n",
            "\u001b[1m> Finished chain.\u001b[0m\n",
            "\n",
            "\u001b[1m> Finished chain.\u001b[0m\n"
          ]
        },
        {
          "output_type": "execute_result",
          "data": {
            "text/plain": [
              "'For each customer in Argentina, their first invoice was on June 12, 2010, and the total amount was $0.99.'"
            ],
            "application/vnd.google.colaboratory.intrinsic+json": {
              "type": "string"
            }
          },
          "metadata": {},
          "execution_count": 55
        }
      ]
    },
    {
      "cell_type": "code",
      "source": [
        "result= db_chain(\"Show me the Top 10 customers based on cumulative revenue over time, ranked by the total revenue.\")\n",
        "tracks = result['result'].split(',')\n",
        "for track in tracks:\n",
        "    print(track.strip())"
      ],
      "metadata": {
        "id": "zGetAJdnTMG1",
        "colab": {
          "base_uri": "https://localhost:8080/"
        },
        "outputId": "f479b8ff-f7b8-4f7e-8882-6b579230d925"
      },
      "execution_count": null,
      "outputs": [
        {
          "output_type": "stream",
          "name": "stdout",
          "text": [
            "\n",
            "\n",
            "\u001b[1m> Entering new SQLDatabaseChain chain...\u001b[0m\n",
            "Show me the Top 10 customers based on cumulative revenue over time, ranked by the total revenue.\n",
            "SQLQuery:\u001b[32;1m\u001b[1;3mWITH CustomerRevenue AS (\n",
            "    SELECT\n",
            "        c.CustomerId,\n",
            "        c.FirstName || ' ' || c.LastName AS CustomerName,\n",
            "        SUM(i.Total) AS CumulativeRevenue\n",
            "    FROM\n",
            "        Customer c\n",
            "    JOIN\n",
            "        Invoice i ON c.CustomerId = i.CustomerId\n",
            "    GROUP BY\n",
            "        c.CustomerId, c.FirstName, c.LastName\n",
            ")\n",
            "SELECT\n",
            "    CustomerName,\n",
            "    CumulativeRevenue\n",
            "FROM\n",
            "    CustomerRevenue\n",
            "ORDER BY\n",
            "    CumulativeRevenue DESC\n",
            "LIMIT 10;\u001b[0m\n",
            "SQLResult: \u001b[33;1m\u001b[1;3m[('Helena Holý', 49.620000000000005), ('Richard Cunningham', 47.620000000000005), ('Luis Rojas', 46.62), ('Ladislav Kovács', 45.62), (\"Hugh O'Reilly\", 45.62), ('Julia Barnett', 43.620000000000005), ('Frank Ralston', 43.62), ('Fynn Zimmermann', 43.62), ('Astrid Gruber', 42.62), ('Victor Stevens', 42.62)]\u001b[0m\n",
            "Answer:\u001b[32;1m\u001b[1;3mThe top 10 customers based on cumulative revenue over time, ranked by the total revenue are:\n",
            "\n",
            "1. Helena Holý - $49.62\n",
            "2. Richard Cunningham - $47.62\n",
            "3. Luis Rojas - $46.62\n",
            "4. Ladislav Kovács - $45.62\n",
            "5. Hugh O'Reilly - $45.62\n",
            "6. Julia Barnett - $43.62\n",
            "7. Frank Ralston - $43.62\n",
            "8. Fynn Zimmermann - $43.62\n",
            "9. Astrid Gruber - $42.62\n",
            "10. Victor Stevens - $42.62\u001b[0m\n",
            "\u001b[1m> Finished chain.\u001b[0m\n",
            "The top 10 customers based on cumulative revenue over time\n",
            "ranked by the total revenue are:\n",
            "\n",
            "1. Helena Holý - $49.62\n",
            "2. Richard Cunningham - $47.62\n",
            "3. Luis Rojas - $46.62\n",
            "4. Ladislav Kovács - $45.62\n",
            "5. Hugh O'Reilly - $45.62\n",
            "6. Julia Barnett - $43.62\n",
            "7. Frank Ralston - $43.62\n",
            "8. Fynn Zimmermann - $43.62\n",
            "9. Astrid Gruber - $42.62\n",
            "10. Victor Stevens - $42.62\n"
          ]
        }
      ]
    },
    {
      "cell_type": "code",
      "source": [
        "db_chain(\"Did customers in Argentina make us more money than Brazil?\")"
      ],
      "metadata": {
        "id": "Old-5Ue0UOdQ",
        "colab": {
          "base_uri": "https://localhost:8080/"
        },
        "outputId": "d25633ea-8986-4e46-c737-93887dcccd38"
      },
      "execution_count": null,
      "outputs": [
        {
          "output_type": "stream",
          "name": "stdout",
          "text": [
            "\n",
            "\n",
            "\u001b[1m> Entering new SQLDatabaseChain chain...\u001b[0m\n",
            "Did customers in Argentina make us more money than Brazil?\n",
            "SQLQuery:\u001b[32;1m\u001b[1;3mWITH ArgentinaRevenue AS (\n",
            "    SELECT SUM(InvoiceLine.UnitPrice * InvoiceLine.Quantity) AS ArgentinaRevenue\n",
            "    FROM Invoice\n",
            "    JOIN Customer ON Invoice.CustomerId = Customer.CustomerId\n",
            "    JOIN InvoiceLine ON Invoice.InvoiceId = InvoiceLine.InvoiceId\n",
            "    JOIN Track ON InvoiceLine.TrackId = Track.TrackId\n",
            "    JOIN Album ON Track.AlbumId = Album.AlbumId\n",
            "    JOIN Artist ON Album.ArtistId = Artist.ArtistId\n",
            "    WHERE Customer.Country = 'Argentina'\n",
            "),\n",
            "BrazilRevenue AS (\n",
            "    SELECT SUM(InvoiceLine.UnitPrice * InvoiceLine.Quantity) AS BrazilRevenue\n",
            "    FROM Invoice\n",
            "    JOIN Customer ON Invoice.CustomerId = Customer.CustomerId\n",
            "    JOIN InvoiceLine ON Invoice.InvoiceId = InvoiceLine.InvoiceId\n",
            "    JOIN Track ON InvoiceLine.TrackId = Track.TrackId\n",
            "    JOIN Album ON Track.AlbumId = Album.AlbumId\n",
            "    JOIN Artist ON Album.ArtistId = Artist.ArtistId\n",
            "    WHERE Customer.Country = 'Brazil'\n",
            ")\n",
            "SELECT ArgentinaRevenue, BrazilRevenue\n",
            "FROM ArgentinaRevenue, BrazilRevenue;\u001b[0m\n",
            "SQLResult: \u001b[33;1m\u001b[1;3m[(37.61999999999999, 190.10000000000028)]\u001b[0m\n",
            "Answer:\u001b[32;1m\u001b[1;3mNo, customers in Argentina did not make us more money than Brazil. The total revenue from customers in Argentina is $37.62, while the total revenue from customers in Brazil is $190.10.\u001b[0m\n",
            "\u001b[1m> Finished chain.\u001b[0m\n"
          ]
        },
        {
          "output_type": "execute_result",
          "data": {
            "text/plain": [
              "{'query': 'Did customers in Argentina make us more money than Brazil?',\n",
              " 'history': 'Human: List all distinct playlists and whether they are audio or video.\\nAI: There are 15 distinct playlists in the database. Some playlists are labeled as \"Audio\" while others are labeled as \"Video\". The \"Music\" playlist contains both audio and video tracks. The \"TV Shows\" playlist contains only video tracks. The rest of the playlists are labeled as \"Audio\".\\nHuman: Show me total revenue by country.\\nAI: Total revenue by country:\\n1. USA: $523.06\\n2. Canada: $303.96\\n3. France: $195.10\\n4. Brazil: $190.10\\n5. Germany: $156.48\\n6. United Kingdom: $112.86\\n7. Czech Republic: $90.24\\n8. Portugal: $77.24\\n9. India: $75.26\\n10. Chile: $46.62\\n11. Ireland: $45.62\\n12. Hungary: $45.62\\n13. Austria: $42.62\\n14. Finland: $41.62\\n15. Netherlands: $40.62\\n16. Norway: $39.62\\n17. Sweden: $38.62\\n18. Poland: $37.62\\n19. Italy: $37.62\\n20. Denmark: $37.62\\n21. Australia: $37.62\\n22. Argentina: $37.62\\n23. Spain: $37.62\\n24. Belgium: $37.62\\nHuman: How many invoices does each customer have?\\nAI: Each customer has 7 invoices.\\nHuman: Rank Top 10 customers and their country based on total revenue.\\nAI: The top 10 customers and their countries based on total revenue are:\\n\\n1. CustomerId: 6, Country: Czech Republic, Total Revenue: 49.62\\n2. CustomerId: 26, Country: USA, Total Revenue: 47.62\\n3. CustomerId: 57, Country: Chile, Total Revenue: 46.62\\n4. CustomerId: 45, Country: Hungary, Total Revenue: 45.62\\n5. CustomerId: 46, Country: Ireland, Total Revenue: 45.62\\n6. CustomerId: 37, Country: Germany, Total Revenue: 43.62\\n7. CustomerId: 24, Country: USA, Total Revenue: 43.62\\n8. CustomerId: 28, Country: USA, Total Revenue: 43.62\\n9. CustomerId: 25, Country: USA, Total Revenue: 42.62\\n10. CustomerId: 7, Country: Austria, Total Revenue: 42.62\\nHuman: Rank Top 10 customer names and their country based on total revenue.\\nAI: The top 10 customer names and their countries based on total revenue are as follows:\\n1. Helena Holý from Czech Republic with a total revenue of 49.62\\n2. Richard Cunningham from USA with a total revenue of 47.62\\n3. Luis Rojas from Chile with a total revenue of 46.62\\n4. Ladislav Kovács from Hungary with a total revenue of 45.62\\n5. Hugh O\\'Reilly from Ireland with a total revenue of 45.62\\n6. Julia Barnett from USA with a total revenue of 43.62\\n7. Frank Ralston from USA with a total revenue of 43.62\\n8. Fynn Zimmermann from Germany with a total revenue of 43.62\\n9. Astrid Gruber from Austria with a total revenue of 42.62\\n10. Victor Stevens from USA with a total revenue of 42.62\\nHuman: Which Artists compose their own tracks?\\nAI: AC/DC, Aaron Goldberg, Apocalyptica, Billy Cobham, Buddy Guy, Caetano Veloso, Chris Cornell, Cidade Negra, David Coverdale, Djavan, Eric Clapton, Faith No More, Foo Fighters, Gilberto Gil, Gonzaguinha, Green Day, Gustav Mahler, James Brown, Jimi Hendrix, João Suplicy, Karsh Kale, Lenny Kravitz, Marcos Valle, Marvin Gaye, Metallica, Miles Davis, Milton Nascimento, Mônica Marianno, Nirvana, Pearl Jam, Queen, R.E.M., Red Hot Chili Peppers, Santana, Soundgarden, The Clash, The Tea Party, Tim Maia, Titãs, U2, Van Halen\\nHuman: Which Artists have never composed their own tracks?\\nAI: The artists who have never composed their own tracks are:\\n- A Cor Do Som\\n- Academy of St. Martin in the Fields, Sir Neville Marriner & William Bennett\\n- Accept\\n- Aerosmith & Sierra Leone\\'s Refugee Allstars\\n- Amy Winehouse\\n- Antônio Carlos Jobim\\n- Aquaman\\n- Audioslave\\n- Avril Lavigne\\n- Azymuth\\n- Baby Consuelo\\n- Banda Black Rio\\n- Barão Vermelho\\n- Battlestar Galactica\\n- Battlestar Galactica (Classic)\\n- Bebel Gilberto\\n- Ben Harper\\n- Big & Rich\\n- Black Eyed Peas\\n- Black Label Society\\n- Black Sabbath\\n- Body Count\\n- Caetano Veloso\\n- Cake\\n- Calexico\\n- Charlie Brown Jr.\\n- Chico Buarque\\n- Chico Science & Nação Zumbi\\n- Christina Aguilera featuring BigElf\\n- Christopher O\\'Riley\\n- Cláudio Zoli\\n- Corinne Bailey Rae\\n- Cássia Eller\\n- DJ Dolores & Orchestra Santa Massa\\n- Def Leppard\\n- Dhani Harrison & Jakob Dylan\\n- Djavan\\n- Ed Motta\\n- Edson, DJ Marky & DJ Patife Featuring Fernanda Porto\\n- Elis Regina\\n- Eugene Ormandy\\n- Faith No More\\n- Falamansa\\n- Fernanda Porto\\n- Funk Como Le Gusta\\n- Gene Krupa\\n- Gerald Moore\\n- Gilberto Gil\\n- Gonzaguinha\\n- Guns N\\' Roses\\n- Gustavo & Andres Veiga & Salazar\\n- Hermeto Pascoal\\n- Heroes\\n- Instituto\\n- Iron Maiden\\n- Jack Johnson\\n- Jack\\'s Mannequin & Mick Fleetwood\\n- Jackson Browne\\n- Jaguares\\n- Joe Satriani\\n- Jorge Ben\\n- Jorge Vercilo\\n- Jota Quest\\n- João Gilberto\\n- Judas Priest\\n- Kid Abelha\\n- Lenny Kravitz\\n- Los Hermanos\\n- Los Lonely Boys\\n- Lost\\n- Luiz Melodia\\n- Lulu Santos\\n- Marvin Gaye\\n- Matisyahu\\n- Men At Work\\n- Michael Tilson Thomas & San Francisco Symphony\\n- Michele Campanella\\n- Milton Nascimento & Bebeto\\n- Motörhead & Girlschool\\n- Mundo Livre S/A\\n- Nando Reis\\n- Nação Zumbi\\n- Nega Gizza\\n- Ney Matogrosso\\n- O Rappa\\n- O Terço\\n- Olodum\\n- Os Cariocas\\n- Os Paralamas Do Sucesso\\n- Otto\\n- Ozzy Osbourne\\n- Pedro Luís & A Parede\\n- Pedro Luís E A Parede\\n- Peter Tosh\\n- Philharmonia Orchestra & Sir Neville Marriner\\n- Planet Hemp\\n- R.E.M. Feat. KRS-One\\n- Raul Seixas\\n- Regina Spektor\\n- Rodox\\n- Sabotage E Instituto\\n- Sandra De Sá\\n- Santana\\n- Santana Feat. Dave Matthews\\n- Santana Feat. Eagle-Eye Cherry\\n- Santana Feat. Eric Clapton\\n- Santana Feat. Everlast\\n- Santana Feat. Lauryn Hill & Cee-Lo\\n- Santana Feat. Maná\\n- Santana Feat. Rob Thomas\\n- Santana Feat. The Project G&B\\n- Scorpions\\n- Seu Jorge\\n- Simply Red\\n- Snow Patrol\\n- Spyro Gyra\\n- Stereo Maracana\\n- Temple of the Dog\\n- The Cult\\n- The Flaming Lips\\n- The Office\\n- The Postal Service\\n- Tim Maia\\n- Toquinho & Vinícius\\n- U2\\n- UB40\\n- Various Artists\\n- Vinicius, Toquinho & Quarteto Em Cy\\n- Vinícius De Moraes\\n- Vinícius De Moraes & Baden Powell\\n- Vinícius E Odette Lara\\n- Vinícius E Qurteto Em Cy\\n- Whitesnake\\n- Xis\\n- Youssou N\\'Dour\\nHuman: How many artists compose their own tracks and how many don\\'t?\\nAI: 2525 artists compose their own tracks and 978 artists don\\'t compose their own tracks.\\nHuman: How many distinct artists compose their own tracks and how many don\\'t?\\nAI: There are 357 distinct artists who compose their own tracks, and there are 82 artists who do not compose their own tracks.\\nHuman: Which track with the same artist and composer has the highest revenue?\\nAI: The track with the same artist and composer that has the highest revenue is \"The Woman King\" with a revenue of 3.98.\\nHuman: Which track has the highest revenue where the artist is also the composer?\\nAI: The track with the highest revenue where the artist is also the composer is \"Inject The Venom\" by Angus Young, Malcolm Young, and Brian Johnson. The revenue for this track is 1.98.\\nHuman: Which track has the highest revenue where the artist\\'s name is the same as composer\\'s name?\\nAI: There is no track in the database where the artist\\'s name is the same as the composer\\'s name.\\nHuman: Which track has the highest revenue where ArtistName=Composer?\\nAI: There is no track in the database where the ArtistName is equal to the Composer.\\nHuman: Which track has the highest revenue where the artist is himself the composer?\\nAI: The track with the highest revenue where the artist is also the composer is \"Inject The Venom\" with a total revenue of 1.98.\\nHuman: How many distinct artists compose their own tracks and how many don\\'t?\\nAI: There are 41 artists who compose their own tracks, and 234 artists who do not compose their own tracks.\\nHuman: Which track has the highest revenue where the artist is himself the composer?\\nAI: The track with the highest revenue where the artist is himself the composer is \"Overdose\" with a revenue of 1.98.\\nHuman: Which track has the highest total revenue where the artist is himself the composer?\\nAI: The track with the highest total revenue where the artist is himself the composer is \"Overdose\" with a total revenue of 1.98.\\nHuman: Which track has the highest total revenue where the artist and composer are same?\\nAI: The track with the highest total revenue where the artist and composer are the same is \"Overdose\" with a total revenue of 1.98.\\nHuman: Which track has the highest total revenue where the artist and composer are same?\\nAI: The track with the highest total revenue where the artist and composer are the same is \"Overdose\" with a total revenue of 1.98.\\nHuman: Which track has the highest total revenue where the artist and composer are same?\\nAI: The track \"Release\" by the artist \"The Tea Party\" has the highest total revenue where the artist and composer are the same.',\n",
              " 'result': 'No, customers in Argentina did not make us more money than Brazil. The total revenue from customers in Argentina is $37.62, while the total revenue from customers in Brazil is $190.10.'}"
            ]
          },
          "metadata": {},
          "execution_count": 294
        }
      ]
    },
    {
      "cell_type": "code",
      "source": [
        "db_chain(\"How many unique artists represent each genre?\")"
      ],
      "metadata": {
        "id": "qdXzRS4aUwA7",
        "colab": {
          "base_uri": "https://localhost:8080/"
        },
        "outputId": "6b79668b-6b45-4163-9381-921651e73869"
      },
      "execution_count": null,
      "outputs": [
        {
          "output_type": "stream",
          "name": "stdout",
          "text": [
            "\n",
            "\n",
            "\u001b[1m> Entering new SQLDatabaseChain chain...\u001b[0m\n",
            "How many unique artists represent each genre?\n",
            "SQLQuery:\u001b[32;1m\u001b[1;3mWITH UniqueArtists AS (\n",
            "    SELECT DISTINCT Genre.Name, Artist.Name\n",
            "    FROM Genre\n",
            "    JOIN Track ON Genre.GenreId = Track.GenreId\n",
            "    JOIN Album ON Track.AlbumId = Album.AlbumId\n",
            "    JOIN Artist ON Album.ArtistId = Artist.ArtistId\n",
            ")\n",
            "SELECT Name, COUNT(*) AS UniqueArtistsCount\n",
            "FROM UniqueArtists\n",
            "GROUP BY Name;\u001b[0m\n",
            "SQLResult: \u001b[33;1m\u001b[1;3m[('Alternative', 5), ('Alternative & Punk', 16), ('Blues', 5), ('Bossa Nova', 1), ('Classical', 66), ('Comedy', 1), ('Drama', 2), ('Easy Listening', 1), ('Electronica/Dance', 3), ('Heavy Metal', 1), ('Hip Hop/Rap', 2), ('Jazz', 10), ('Latin', 28), ('Metal', 14), ('Opera', 1), ('Pop', 3), ('R&B/Soul', 4), ('Reggae', 3), ('Rock', 51), ('Rock And Roll', 1), ('Sci Fi & Fantasy', 2), ('Science Fiction', 1), ('Soundtrack', 4), ('TV Shows', 5), ('World', 3)]\u001b[0m\n",
            "Answer:\u001b[32;1m\u001b[1;3mThere are 24 unique genres in the database.\u001b[0m\n",
            "\u001b[1m> Finished chain.\u001b[0m\n"
          ]
        },
        {
          "output_type": "execute_result",
          "data": {
            "text/plain": [
              "{'query': 'How many unique artists represent each genre?',\n",
              " 'result': 'There are 24 unique genres in the database.'}"
            ]
          },
          "metadata": {},
          "execution_count": 236
        }
      ]
    },
    {
      "cell_type": "code",
      "source": [
        "result = db_chain(\"List all distinct playlists and whether they are audio or video.\")\n",
        "tracks = result['result'].split(',')\n",
        "for track in tracks:\n",
        "    print(track.strip())"
      ],
      "metadata": {
        "colab": {
          "base_uri": "https://localhost:8080/"
        },
        "id": "n_OknY1IBl7Y",
        "outputId": "6d89d413-54fa-497d-d7ae-41e5f58234fa"
      },
      "execution_count": null,
      "outputs": [
        {
          "output_type": "stream",
          "name": "stdout",
          "text": [
            "\n",
            "\n",
            "\u001b[1m> Entering new SQLDatabaseChain chain...\u001b[0m\n",
            "List all distinct playlists and whether they are audio or video.\n",
            "SQLQuery:\u001b[32;1m\u001b[1;3mSELECT \n",
            "    Playlist.Name AS Playlist,\n",
            "    CASE\n",
            "        WHEN MediaType.Name LIKE '%audio%' THEN 'Audio'\n",
            "        WHEN MediaType.Name LIKE '%video%' THEN 'Video'\n",
            "        ELSE 'Unknown'\n",
            "    END AS Type\n",
            "FROM \n",
            "    Playlist\n",
            "JOIN \n",
            "    PlaylistTrack ON Playlist.PlaylistId = PlaylistTrack.PlaylistId\n",
            "JOIN \n",
            "    Track ON PlaylistTrack.TrackId = Track.TrackId\n",
            "JOIN \n",
            "    MediaType ON Track.MediaTypeId = MediaType.MediaTypeId\n",
            "GROUP BY \n",
            "    Playlist.PlaylistId, Type;\u001b[0m\n",
            "SQLResult: \u001b[33;1m\u001b[1;3m[('Music', 'Audio'), ('Music', 'Video'), ('TV Shows', 'Video'), ('90’s Music', 'Audio'), ('Music', 'Audio'), ('Music', 'Video'), ('Music Videos', 'Video'), ('TV Shows', 'Video'), ('Brazilian Music', 'Audio'), ('Classical', 'Audio'), ('Classical 101 - Deep Cuts', 'Audio'), ('Classical 101 - Next Steps', 'Audio'), ('Classical 101 - The Basics', 'Audio'), ('Grunge', 'Audio'), ('Heavy Metal Classic', 'Audio'), ('On-The-Go 1', 'Audio')]\u001b[0m\n",
            "Answer:\u001b[32;1m\u001b[1;3mThere are 15 distinct playlists in the database. Some playlists are labeled as \"Audio\" while others are labeled as \"Video\". The \"Music\" playlist contains both audio and video tracks. The \"TV Shows\" playlist contains only video tracks. The rest of the playlists are labeled as \"Audio\".\u001b[0m\n",
            "\u001b[1m> Finished chain.\u001b[0m\n",
            "There are 15 distinct playlists in the database. Some playlists are labeled as \"Audio\" while others are labeled as \"Video\". The \"Music\" playlist contains both audio and video tracks. The \"TV Shows\" playlist contains only video tracks. The rest of the playlists are labeled as \"Audio\".\n"
          ]
        }
      ]
    },
    {
      "cell_type": "code",
      "source": [
        "db_chain(\"How many unique artists represent each genre?\")"
      ],
      "metadata": {
        "id": "gltIBHA8fcdm",
        "colab": {
          "base_uri": "https://localhost:8080/"
        },
        "outputId": "f11746cc-40db-4229-c016-c80ded4a1ecd"
      },
      "execution_count": null,
      "outputs": [
        {
          "output_type": "stream",
          "name": "stdout",
          "text": [
            "\n",
            "\n",
            "\u001b[1m> Entering new SQLDatabaseChain chain...\u001b[0m\n",
            "How many unique artists represent each genre?\n",
            "SQLQuery:\u001b[32;1m\u001b[1;3mWITH UniqueArtists AS (\n",
            "    SELECT Genre.Name AS Genre, COUNT(DISTINCT Artist.ArtistId) AS UniqueArtists\n",
            "    FROM Genre\n",
            "    JOIN Track ON Genre.GenreId = Track.GenreId\n",
            "    JOIN Album ON Track.AlbumId = Album.AlbumId\n",
            "    JOIN Artist ON Album.ArtistId = Artist.ArtistId\n",
            "    GROUP BY Genre.Name\n",
            ")\n",
            "SELECT Genre, UniqueArtists\n",
            "FROM UniqueArtists\n",
            "ORDER BY UniqueArtists DESC;\u001b[0m\n",
            "SQLResult: \u001b[33;1m\u001b[1;3m[('Classical', 66), ('Rock', 51), ('Latin', 28), ('Alternative & Punk', 16), ('Metal', 14), ('Jazz', 10), ('Alternative', 5), ('Blues', 5), ('TV Shows', 5), ('R&B/Soul', 4), ('Soundtrack', 4), ('Electronica/Dance', 3), ('Pop', 3), ('Reggae', 3), ('World', 3), ('Drama', 2), ('Hip Hop/Rap', 2), ('Sci Fi & Fantasy', 2), ('Bossa Nova', 1), ('Comedy', 1), ('Easy Listening', 1), ('Heavy Metal', 1), ('Opera', 1), ('Rock And Roll', 1), ('Science Fiction', 1)]\u001b[0m\n",
            "Answer:\u001b[32;1m\u001b[1;3mThere are 66 unique artists representing the Classical genre, 51 unique artists representing the Rock genre, 28 unique artists representing the Latin genre, and so on.\u001b[0m\n",
            "\u001b[1m> Finished chain.\u001b[0m\n"
          ]
        },
        {
          "output_type": "execute_result",
          "data": {
            "text/plain": [
              "{'query': 'How many unique artists represent each genre?',\n",
              " 'result': 'There are 66 unique artists representing the Classical genre, 51 unique artists representing the Rock genre, 28 unique artists representing the Latin genre, and so on.'}"
            ]
          },
          "metadata": {},
          "execution_count": 218
        }
      ]
    },
    {
      "cell_type": "code",
      "source": [
        "db_chain(\"Based on the birth months of the employees, display how much revenue was recorded for each birth month.\")"
      ],
      "metadata": {
        "id": "NvkmNOc4h0Pi",
        "colab": {
          "base_uri": "https://localhost:8080/"
        },
        "outputId": "e64712e2-6be8-4fe7-ddc7-7e23fb692d8d"
      },
      "execution_count": null,
      "outputs": [
        {
          "output_type": "stream",
          "name": "stdout",
          "text": [
            "\n",
            "\n",
            "\u001b[1m> Entering new SQLDatabaseChain chain...\u001b[0m\n",
            "Based on the birth months of the employees, display how much revenue was recorded for each birth month.\n",
            "SQLQuery:\u001b[32;1m\u001b[1;3mWITH EmployeeBirthMonths AS (\n",
            "    SELECT\n",
            "        EmployeeId,\n",
            "        STRFTIME('%m', BirthDate) AS BirthMonth\n",
            "    FROM\n",
            "        Employee\n",
            "),\n",
            "EmployeeRevenue AS (\n",
            "    SELECT\n",
            "        EmployeeBirthMonths.BirthMonth,\n",
            "        SUM(InvoiceLine.UnitPrice * InvoiceLine.Quantity) AS Revenue\n",
            "    FROM\n",
            "        EmployeeBirthMonths\n",
            "    JOIN\n",
            "        Employee ON EmployeeBirthMonths.EmployeeId = Employee.EmployeeId\n",
            "    JOIN\n",
            "        Customer ON Employee.EmployeeId = Customer.SupportRepId\n",
            "    JOIN\n",
            "        Invoice ON Customer.CustomerId = Invoice.CustomerId\n",
            "    JOIN\n",
            "        InvoiceLine ON Invoice.InvoiceId = InvoiceLine.InvoiceId\n",
            "    GROUP BY\n",
            "        EmployeeBirthMonths.BirthMonth\n",
            ")\n",
            "SELECT\n",
            "    EmployeeBirthMonths.BirthMonth,\n",
            "    EmployeeRevenue.Revenue\n",
            "FROM\n",
            "    EmployeeBirthMonths\n",
            "JOIN\n",
            "    EmployeeRevenue ON EmployeeBirthMonths.BirthMonth = EmployeeRevenue.BirthMonth\n",
            "ORDER BY\n",
            "    EmployeeBirthMonths.BirthMonth ASC;\u001b[0m\n",
            "SQLResult: \u001b[33;1m\u001b[1;3m[('03', 720.1600000000047), ('08', 833.0400000000058), ('09', 775.4000000000054)]\u001b[0m\n",
            "Answer:\u001b[32;1m\u001b[1;3mThe revenue recorded for each birth month is as follows:\n",
            "- March: $720.16\n",
            "- August: $833.04\n",
            "- September: $775.40\u001b[0m\n",
            "\u001b[1m> Finished chain.\u001b[0m\n"
          ]
        },
        {
          "output_type": "execute_result",
          "data": {
            "text/plain": [
              "{'query': 'Based on the birth months of the employees, display how much revenue was recorded for each birth month.',\n",
              " 'history': 'Human: List all distinct playlists and whether they are audio or video.\\nAI: There are 15 distinct playlists in the database. Some playlists are labeled as \"Audio\" while others are labeled as \"Video\". The \"Music\" playlist contains both audio and video tracks. The \"TV Shows\" playlist contains only video tracks. The rest of the playlists are labeled as \"Audio\".\\nHuman: Show me total revenue by country.\\nAI: Total revenue by country:\\n1. USA: $523.06\\n2. Canada: $303.96\\n3. France: $195.10\\n4. Brazil: $190.10\\n5. Germany: $156.48\\n6. United Kingdom: $112.86\\n7. Czech Republic: $90.24\\n8. Portugal: $77.24\\n9. India: $75.26\\n10. Chile: $46.62\\n11. Ireland: $45.62\\n12. Hungary: $45.62\\n13. Austria: $42.62\\n14. Finland: $41.62\\n15. Netherlands: $40.62\\n16. Norway: $39.62\\n17. Sweden: $38.62\\n18. Poland: $37.62\\n19. Italy: $37.62\\n20. Denmark: $37.62\\n21. Australia: $37.62\\n22. Argentina: $37.62\\n23. Spain: $37.62\\n24. Belgium: $37.62\\nHuman: How many invoices does each customer have?\\nAI: Each customer has 7 invoices.\\nHuman: Rank Top 10 customers and their country based on total revenue.\\nAI: The top 10 customers and their countries based on total revenue are:\\n\\n1. CustomerId: 6, Country: Czech Republic, Total Revenue: 49.62\\n2. CustomerId: 26, Country: USA, Total Revenue: 47.62\\n3. CustomerId: 57, Country: Chile, Total Revenue: 46.62\\n4. CustomerId: 45, Country: Hungary, Total Revenue: 45.62\\n5. CustomerId: 46, Country: Ireland, Total Revenue: 45.62\\n6. CustomerId: 37, Country: Germany, Total Revenue: 43.62\\n7. CustomerId: 24, Country: USA, Total Revenue: 43.62\\n8. CustomerId: 28, Country: USA, Total Revenue: 43.62\\n9. CustomerId: 25, Country: USA, Total Revenue: 42.62\\n10. CustomerId: 7, Country: Austria, Total Revenue: 42.62\\nHuman: Rank Top 10 customer names and their country based on total revenue.\\nAI: The top 10 customer names and their countries based on total revenue are as follows:\\n1. Helena Holý from Czech Republic with a total revenue of 49.62\\n2. Richard Cunningham from USA with a total revenue of 47.62\\n3. Luis Rojas from Chile with a total revenue of 46.62\\n4. Ladislav Kovács from Hungary with a total revenue of 45.62\\n5. Hugh O\\'Reilly from Ireland with a total revenue of 45.62\\n6. Julia Barnett from USA with a total revenue of 43.62\\n7. Frank Ralston from USA with a total revenue of 43.62\\n8. Fynn Zimmermann from Germany with a total revenue of 43.62\\n9. Astrid Gruber from Austria with a total revenue of 42.62\\n10. Victor Stevens from USA with a total revenue of 42.62\\nHuman: Which Artists compose their own tracks?\\nAI: AC/DC, Aaron Goldberg, Apocalyptica, Billy Cobham, Buddy Guy, Caetano Veloso, Chris Cornell, Cidade Negra, David Coverdale, Djavan, Eric Clapton, Faith No More, Foo Fighters, Gilberto Gil, Gonzaguinha, Green Day, Gustav Mahler, James Brown, Jimi Hendrix, João Suplicy, Karsh Kale, Lenny Kravitz, Marcos Valle, Marvin Gaye, Metallica, Miles Davis, Milton Nascimento, Mônica Marianno, Nirvana, Pearl Jam, Queen, R.E.M., Red Hot Chili Peppers, Santana, Soundgarden, The Clash, The Tea Party, Tim Maia, Titãs, U2, Van Halen\\nHuman: Which Artists have never composed their own tracks?\\nAI: The artists who have never composed their own tracks are:\\n- A Cor Do Som\\n- Academy of St. Martin in the Fields, Sir Neville Marriner & William Bennett\\n- Accept\\n- Aerosmith & Sierra Leone\\'s Refugee Allstars\\n- Amy Winehouse\\n- Antônio Carlos Jobim\\n- Aquaman\\n- Audioslave\\n- Avril Lavigne\\n- Azymuth\\n- Baby Consuelo\\n- Banda Black Rio\\n- Barão Vermelho\\n- Battlestar Galactica\\n- Battlestar Galactica (Classic)\\n- Bebel Gilberto\\n- Ben Harper\\n- Big & Rich\\n- Black Eyed Peas\\n- Black Label Society\\n- Black Sabbath\\n- Body Count\\n- Caetano Veloso\\n- Cake\\n- Calexico\\n- Charlie Brown Jr.\\n- Chico Buarque\\n- Chico Science & Nação Zumbi\\n- Christina Aguilera featuring BigElf\\n- Christopher O\\'Riley\\n- Cláudio Zoli\\n- Corinne Bailey Rae\\n- Cássia Eller\\n- DJ Dolores & Orchestra Santa Massa\\n- Def Leppard\\n- Dhani Harrison & Jakob Dylan\\n- Djavan\\n- Ed Motta\\n- Edson, DJ Marky & DJ Patife Featuring Fernanda Porto\\n- Elis Regina\\n- Eugene Ormandy\\n- Faith No More\\n- Falamansa\\n- Fernanda Porto\\n- Funk Como Le Gusta\\n- Gene Krupa\\n- Gerald Moore\\n- Gilberto Gil\\n- Gonzaguinha\\n- Guns N\\' Roses\\n- Gustavo & Andres Veiga & Salazar\\n- Hermeto Pascoal\\n- Heroes\\n- Instituto\\n- Iron Maiden\\n- Jack Johnson\\n- Jack\\'s Mannequin & Mick Fleetwood\\n- Jackson Browne\\n- Jaguares\\n- Joe Satriani\\n- Jorge Ben\\n- Jorge Vercilo\\n- Jota Quest\\n- João Gilberto\\n- Judas Priest\\n- Kid Abelha\\n- Lenny Kravitz\\n- Los Hermanos\\n- Los Lonely Boys\\n- Lost\\n- Luiz Melodia\\n- Lulu Santos\\n- Marvin Gaye\\n- Matisyahu\\n- Men At Work\\n- Michael Tilson Thomas & San Francisco Symphony\\n- Michele Campanella\\n- Milton Nascimento & Bebeto\\n- Motörhead & Girlschool\\n- Mundo Livre S/A\\n- Nando Reis\\n- Nação Zumbi\\n- Nega Gizza\\n- Ney Matogrosso\\n- O Rappa\\n- O Terço\\n- Olodum\\n- Os Cariocas\\n- Os Paralamas Do Sucesso\\n- Otto\\n- Ozzy Osbourne\\n- Pedro Luís & A Parede\\n- Pedro Luís E A Parede\\n- Peter Tosh\\n- Philharmonia Orchestra & Sir Neville Marriner\\n- Planet Hemp\\n- R.E.M. Feat. KRS-One\\n- Raul Seixas\\n- Regina Spektor\\n- Rodox\\n- Sabotage E Instituto\\n- Sandra De Sá\\n- Santana\\n- Santana Feat. Dave Matthews\\n- Santana Feat. Eagle-Eye Cherry\\n- Santana Feat. Eric Clapton\\n- Santana Feat. Everlast\\n- Santana Feat. Lauryn Hill & Cee-Lo\\n- Santana Feat. Maná\\n- Santana Feat. Rob Thomas\\n- Santana Feat. The Project G&B\\n- Scorpions\\n- Seu Jorge\\n- Simply Red\\n- Snow Patrol\\n- Spyro Gyra\\n- Stereo Maracana\\n- Temple of the Dog\\n- The Cult\\n- The Flaming Lips\\n- The Office\\n- The Postal Service\\n- Tim Maia\\n- Toquinho & Vinícius\\n- U2\\n- UB40\\n- Various Artists\\n- Vinicius, Toquinho & Quarteto Em Cy\\n- Vinícius De Moraes\\n- Vinícius De Moraes & Baden Powell\\n- Vinícius E Odette Lara\\n- Vinícius E Qurteto Em Cy\\n- Whitesnake\\n- Xis\\n- Youssou N\\'Dour\\nHuman: How many artists compose their own tracks and how many don\\'t?\\nAI: 2525 artists compose their own tracks and 978 artists don\\'t compose their own tracks.\\nHuman: How many distinct artists compose their own tracks and how many don\\'t?\\nAI: There are 357 distinct artists who compose their own tracks, and there are 82 artists who do not compose their own tracks.\\nHuman: Which track with the same artist and composer has the highest revenue?\\nAI: The track with the same artist and composer that has the highest revenue is \"The Woman King\" with a revenue of 3.98.\\nHuman: Which track has the highest revenue where the artist is also the composer?\\nAI: The track with the highest revenue where the artist is also the composer is \"Inject The Venom\" by Angus Young, Malcolm Young, and Brian Johnson. The revenue for this track is 1.98.\\nHuman: Which track has the highest revenue where the artist\\'s name is the same as composer\\'s name?\\nAI: There is no track in the database where the artist\\'s name is the same as the composer\\'s name.\\nHuman: Which track has the highest revenue where ArtistName=Composer?\\nAI: There is no track in the database where the ArtistName is equal to the Composer.\\nHuman: Which track has the highest revenue where the artist is himself the composer?\\nAI: The track with the highest revenue where the artist is also the composer is \"Inject The Venom\" with a total revenue of 1.98.\\nHuman: How many distinct artists compose their own tracks and how many don\\'t?\\nAI: There are 41 artists who compose their own tracks, and 234 artists who do not compose their own tracks.\\nHuman: Which track has the highest revenue where the artist is himself the composer?\\nAI: The track with the highest revenue where the artist is himself the composer is \"Overdose\" with a revenue of 1.98.\\nHuman: Which track has the highest total revenue where the artist is himself the composer?\\nAI: The track with the highest total revenue where the artist is himself the composer is \"Overdose\" with a total revenue of 1.98.\\nHuman: Which track has the highest total revenue where the artist and composer are same?\\nAI: The track with the highest total revenue where the artist and composer are the same is \"Overdose\" with a total revenue of 1.98.\\nHuman: Which track has the highest total revenue where the artist and composer are same?\\nAI: The track with the highest total revenue where the artist and composer are the same is \"Overdose\" with a total revenue of 1.98.\\nHuman: Which track has the highest total revenue where the artist and composer are same?\\nAI: The track \"Release\" by the artist \"The Tea Party\" has the highest total revenue where the artist and composer are the same.\\nHuman: Did customers in Argentina make us more money than Brazil?\\nAI: No, customers in Argentina did not make us more money than Brazil. The total revenue from customers in Argentina is $37.62, while the total revenue from customers in Brazil is $190.10.',\n",
              " 'result': 'The revenue recorded for each birth month is as follows:\\n- March: $720.16\\n- August: $833.04\\n- September: $775.40'}"
            ]
          },
          "metadata": {},
          "execution_count": 295
        }
      ]
    },
    {
      "cell_type": "code",
      "source": [
        "db_chain(\"Rank Top 10 customer names and their country based on total revenue.\")"
      ],
      "metadata": {
        "id": "i6JZlDSEt0Xs",
        "colab": {
          "base_uri": "https://localhost:8080/"
        },
        "outputId": "27e9b9d6-5a45-4501-ed33-fa7de5be6a5f"
      },
      "execution_count": null,
      "outputs": [
        {
          "output_type": "stream",
          "name": "stdout",
          "text": [
            "\n",
            "\n",
            "\u001b[1m> Entering new SQLDatabaseChain chain...\u001b[0m\n",
            "Rank Top 10 customer names and their country based on total revenue.\n",
            "SQLQuery:\u001b[32;1m\u001b[1;3mWITH CustomerRevenue AS (\n",
            "    SELECT\n",
            "        c.CustomerId,\n",
            "        c.FirstName || ' ' || c.LastName AS CustomerName,\n",
            "        c.Country,\n",
            "        SUM(i.Total) AS TotalRevenue\n",
            "    FROM\n",
            "        Customer c\n",
            "    JOIN\n",
            "        Invoice i ON c.CustomerId = i.CustomerId\n",
            "    GROUP BY\n",
            "        c.CustomerId\n",
            ")\n",
            "SELECT\n",
            "    CustomerName,\n",
            "    Country,\n",
            "    TotalRevenue\n",
            "FROM\n",
            "    CustomerRevenue\n",
            "ORDER BY\n",
            "    TotalRevenue DESC\n",
            "LIMIT 10;\u001b[0m\n",
            "SQLResult: \u001b[33;1m\u001b[1;3m[('Helena Holý', 'Czech Republic', 49.620000000000005), ('Richard Cunningham', 'USA', 47.620000000000005), ('Luis Rojas', 'Chile', 46.62), ('Ladislav Kovács', 'Hungary', 45.62), (\"Hugh O'Reilly\", 'Ireland', 45.62), ('Julia Barnett', 'USA', 43.620000000000005), ('Frank Ralston', 'USA', 43.62), ('Fynn Zimmermann', 'Germany', 43.62), ('Astrid Gruber', 'Austria', 42.62), ('Victor Stevens', 'USA', 42.62)]\u001b[0m\n",
            "Answer:\u001b[32;1m\u001b[1;3mThe top 10 customer names and their countries based on total revenue are as follows:\n",
            "1. Helena Holý from Czech Republic with a total revenue of 49.62\n",
            "2. Richard Cunningham from USA with a total revenue of 47.62\n",
            "3. Luis Rojas from Chile with a total revenue of 46.62\n",
            "4. Ladislav Kovács from Hungary with a total revenue of 45.62\n",
            "5. Hugh O'Reilly from Ireland with a total revenue of 45.62\n",
            "6. Julia Barnett from USA with a total revenue of 43.62\n",
            "7. Frank Ralston from USA with a total revenue of 43.62\n",
            "8. Fynn Zimmermann from Germany with a total revenue of 43.62\n",
            "9. Astrid Gruber from Austria with a total revenue of 42.62\n",
            "10. Victor Stevens from USA with a total revenue of 42.62\u001b[0m\n",
            "\u001b[1m> Finished chain.\u001b[0m\n"
          ]
        },
        {
          "output_type": "execute_result",
          "data": {
            "text/plain": [
              "{'query': 'Rank Top 10 customer names and their country based on total revenue.',\n",
              " 'history': 'Human: List all distinct playlists and whether they are audio or video.\\nAI: There are 15 distinct playlists in the database. Some playlists are labeled as \"Audio\" while others are labeled as \"Video\". The \"Music\" playlist contains both audio and video tracks. The \"TV Shows\" playlist contains only video tracks. The rest of the playlists are labeled as \"Audio\".\\nHuman: Show me total revenue by country.\\nAI: Total revenue by country:\\n1. USA: $523.06\\n2. Canada: $303.96\\n3. France: $195.10\\n4. Brazil: $190.10\\n5. Germany: $156.48\\n6. United Kingdom: $112.86\\n7. Czech Republic: $90.24\\n8. Portugal: $77.24\\n9. India: $75.26\\n10. Chile: $46.62\\n11. Ireland: $45.62\\n12. Hungary: $45.62\\n13. Austria: $42.62\\n14. Finland: $41.62\\n15. Netherlands: $40.62\\n16. Norway: $39.62\\n17. Sweden: $38.62\\n18. Poland: $37.62\\n19. Italy: $37.62\\n20. Denmark: $37.62\\n21. Australia: $37.62\\n22. Argentina: $37.62\\n23. Spain: $37.62\\n24. Belgium: $37.62\\nHuman: How many invoices does each customer have?\\nAI: Each customer has 7 invoices.\\nHuman: Rank Top 10 customers and their country based on total revenue.\\nAI: The top 10 customers and their countries based on total revenue are:\\n\\n1. CustomerId: 6, Country: Czech Republic, Total Revenue: 49.62\\n2. CustomerId: 26, Country: USA, Total Revenue: 47.62\\n3. CustomerId: 57, Country: Chile, Total Revenue: 46.62\\n4. CustomerId: 45, Country: Hungary, Total Revenue: 45.62\\n5. CustomerId: 46, Country: Ireland, Total Revenue: 45.62\\n6. CustomerId: 37, Country: Germany, Total Revenue: 43.62\\n7. CustomerId: 24, Country: USA, Total Revenue: 43.62\\n8. CustomerId: 28, Country: USA, Total Revenue: 43.62\\n9. CustomerId: 25, Country: USA, Total Revenue: 42.62\\n10. CustomerId: 7, Country: Austria, Total Revenue: 42.62',\n",
              " 'result': \"The top 10 customer names and their countries based on total revenue are as follows:\\n1. Helena Holý from Czech Republic with a total revenue of 49.62\\n2. Richard Cunningham from USA with a total revenue of 47.62\\n3. Luis Rojas from Chile with a total revenue of 46.62\\n4. Ladislav Kovács from Hungary with a total revenue of 45.62\\n5. Hugh O'Reilly from Ireland with a total revenue of 45.62\\n6. Julia Barnett from USA with a total revenue of 43.62\\n7. Frank Ralston from USA with a total revenue of 43.62\\n8. Fynn Zimmermann from Germany with a total revenue of 43.62\\n9. Astrid Gruber from Austria with a total revenue of 42.62\\n10. Victor Stevens from USA with a total revenue of 42.62\"}"
            ]
          },
          "metadata": {},
          "execution_count": 264
        }
      ]
    },
    {
      "cell_type": "code",
      "source": [
        "db_chain(\"How many distinct artists compose their own tracks and how many don't?\")"
      ],
      "metadata": {
        "colab": {
          "base_uri": "https://localhost:8080/"
        },
        "id": "yaVpx6khHM4p",
        "outputId": "bd48a291-fd08-4021-a4c1-3a33c8ad7e35"
      },
      "execution_count": null,
      "outputs": [
        {
          "output_type": "stream",
          "name": "stdout",
          "text": [
            "\n",
            "\n",
            "\u001b[1m> Entering new SQLDatabaseChain chain...\u001b[0m\n",
            "How many distinct artists compose their own tracks and how many don't?\n",
            "SQLQuery:\u001b[32;1m\u001b[1;3mWITH SelfComposed AS (\n",
            "    SELECT Artist.ArtistId, COUNT(DISTINCT Track.TrackId) AS SelfComposedTracks\n",
            "    FROM Artist\n",
            "    JOIN Album ON Artist.ArtistId = Album.ArtistId\n",
            "    JOIN Track ON Album.AlbumId = Track.AlbumId\n",
            "    WHERE Track.Composer = Artist.Name\n",
            "    GROUP BY Artist.ArtistId\n",
            "),\n",
            "TotalArtists AS (\n",
            "    SELECT COUNT(*) AS TotalArtists\n",
            "    FROM Artist\n",
            ")\n",
            "SELECT \n",
            "    (SELECT COUNT(*) FROM SelfComposed) AS ArtistsWithSelfComposedTracks,\n",
            "    TotalArtists.TotalArtists - (SELECT COUNT(*) FROM SelfComposed) AS ArtistsWithoutSelfComposedTracks\n",
            "FROM TotalArtists;\u001b[0m\n",
            "SQLResult: \u001b[33;1m\u001b[1;3m[(41, 234)]\u001b[0m\n",
            "Answer:\u001b[32;1m\u001b[1;3mThere are 41 artists who compose their own tracks, and 234 artists who do not compose their own tracks.\u001b[0m\n",
            "\u001b[1m> Finished chain.\u001b[0m\n"
          ]
        },
        {
          "output_type": "execute_result",
          "data": {
            "text/plain": [
              "{'query': \"How many distinct artists compose their own tracks and how many don't?\",\n",
              " 'history': 'Human: List all distinct playlists and whether they are audio or video.\\nAI: There are 15 distinct playlists in the database. Some playlists are labeled as \"Audio\" while others are labeled as \"Video\". The \"Music\" playlist contains both audio and video tracks. The \"TV Shows\" playlist contains only video tracks. The rest of the playlists are labeled as \"Audio\".\\nHuman: Show me total revenue by country.\\nAI: Total revenue by country:\\n1. USA: $523.06\\n2. Canada: $303.96\\n3. France: $195.10\\n4. Brazil: $190.10\\n5. Germany: $156.48\\n6. United Kingdom: $112.86\\n7. Czech Republic: $90.24\\n8. Portugal: $77.24\\n9. India: $75.26\\n10. Chile: $46.62\\n11. Ireland: $45.62\\n12. Hungary: $45.62\\n13. Austria: $42.62\\n14. Finland: $41.62\\n15. Netherlands: $40.62\\n16. Norway: $39.62\\n17. Sweden: $38.62\\n18. Poland: $37.62\\n19. Italy: $37.62\\n20. Denmark: $37.62\\n21. Australia: $37.62\\n22. Argentina: $37.62\\n23. Spain: $37.62\\n24. Belgium: $37.62\\nHuman: How many invoices does each customer have?\\nAI: Each customer has 7 invoices.\\nHuman: Rank Top 10 customers and their country based on total revenue.\\nAI: The top 10 customers and their countries based on total revenue are:\\n\\n1. CustomerId: 6, Country: Czech Republic, Total Revenue: 49.62\\n2. CustomerId: 26, Country: USA, Total Revenue: 47.62\\n3. CustomerId: 57, Country: Chile, Total Revenue: 46.62\\n4. CustomerId: 45, Country: Hungary, Total Revenue: 45.62\\n5. CustomerId: 46, Country: Ireland, Total Revenue: 45.62\\n6. CustomerId: 37, Country: Germany, Total Revenue: 43.62\\n7. CustomerId: 24, Country: USA, Total Revenue: 43.62\\n8. CustomerId: 28, Country: USA, Total Revenue: 43.62\\n9. CustomerId: 25, Country: USA, Total Revenue: 42.62\\n10. CustomerId: 7, Country: Austria, Total Revenue: 42.62\\nHuman: Rank Top 10 customer names and their country based on total revenue.\\nAI: The top 10 customer names and their countries based on total revenue are as follows:\\n1. Helena Holý from Czech Republic with a total revenue of 49.62\\n2. Richard Cunningham from USA with a total revenue of 47.62\\n3. Luis Rojas from Chile with a total revenue of 46.62\\n4. Ladislav Kovács from Hungary with a total revenue of 45.62\\n5. Hugh O\\'Reilly from Ireland with a total revenue of 45.62\\n6. Julia Barnett from USA with a total revenue of 43.62\\n7. Frank Ralston from USA with a total revenue of 43.62\\n8. Fynn Zimmermann from Germany with a total revenue of 43.62\\n9. Astrid Gruber from Austria with a total revenue of 42.62\\n10. Victor Stevens from USA with a total revenue of 42.62\\nHuman: Which Artists compose their own tracks?\\nAI: AC/DC, Aaron Goldberg, Apocalyptica, Billy Cobham, Buddy Guy, Caetano Veloso, Chris Cornell, Cidade Negra, David Coverdale, Djavan, Eric Clapton, Faith No More, Foo Fighters, Gilberto Gil, Gonzaguinha, Green Day, Gustav Mahler, James Brown, Jimi Hendrix, João Suplicy, Karsh Kale, Lenny Kravitz, Marcos Valle, Marvin Gaye, Metallica, Miles Davis, Milton Nascimento, Mônica Marianno, Nirvana, Pearl Jam, Queen, R.E.M., Red Hot Chili Peppers, Santana, Soundgarden, The Clash, The Tea Party, Tim Maia, Titãs, U2, Van Halen\\nHuman: Which Artists have never composed their own tracks?\\nAI: The artists who have never composed their own tracks are:\\n- A Cor Do Som\\n- Academy of St. Martin in the Fields, Sir Neville Marriner & William Bennett\\n- Accept\\n- Aerosmith & Sierra Leone\\'s Refugee Allstars\\n- Amy Winehouse\\n- Antônio Carlos Jobim\\n- Aquaman\\n- Audioslave\\n- Avril Lavigne\\n- Azymuth\\n- Baby Consuelo\\n- Banda Black Rio\\n- Barão Vermelho\\n- Battlestar Galactica\\n- Battlestar Galactica (Classic)\\n- Bebel Gilberto\\n- Ben Harper\\n- Big & Rich\\n- Black Eyed Peas\\n- Black Label Society\\n- Black Sabbath\\n- Body Count\\n- Caetano Veloso\\n- Cake\\n- Calexico\\n- Charlie Brown Jr.\\n- Chico Buarque\\n- Chico Science & Nação Zumbi\\n- Christina Aguilera featuring BigElf\\n- Christopher O\\'Riley\\n- Cláudio Zoli\\n- Corinne Bailey Rae\\n- Cássia Eller\\n- DJ Dolores & Orchestra Santa Massa\\n- Def Leppard\\n- Dhani Harrison & Jakob Dylan\\n- Djavan\\n- Ed Motta\\n- Edson, DJ Marky & DJ Patife Featuring Fernanda Porto\\n- Elis Regina\\n- Eugene Ormandy\\n- Faith No More\\n- Falamansa\\n- Fernanda Porto\\n- Funk Como Le Gusta\\n- Gene Krupa\\n- Gerald Moore\\n- Gilberto Gil\\n- Gonzaguinha\\n- Guns N\\' Roses\\n- Gustavo & Andres Veiga & Salazar\\n- Hermeto Pascoal\\n- Heroes\\n- Instituto\\n- Iron Maiden\\n- Jack Johnson\\n- Jack\\'s Mannequin & Mick Fleetwood\\n- Jackson Browne\\n- Jaguares\\n- Joe Satriani\\n- Jorge Ben\\n- Jorge Vercilo\\n- Jota Quest\\n- João Gilberto\\n- Judas Priest\\n- Kid Abelha\\n- Lenny Kravitz\\n- Los Hermanos\\n- Los Lonely Boys\\n- Lost\\n- Luiz Melodia\\n- Lulu Santos\\n- Marvin Gaye\\n- Matisyahu\\n- Men At Work\\n- Michael Tilson Thomas & San Francisco Symphony\\n- Michele Campanella\\n- Milton Nascimento & Bebeto\\n- Motörhead & Girlschool\\n- Mundo Livre S/A\\n- Nando Reis\\n- Nação Zumbi\\n- Nega Gizza\\n- Ney Matogrosso\\n- O Rappa\\n- O Terço\\n- Olodum\\n- Os Cariocas\\n- Os Paralamas Do Sucesso\\n- Otto\\n- Ozzy Osbourne\\n- Pedro Luís & A Parede\\n- Pedro Luís E A Parede\\n- Peter Tosh\\n- Philharmonia Orchestra & Sir Neville Marriner\\n- Planet Hemp\\n- R.E.M. Feat. KRS-One\\n- Raul Seixas\\n- Regina Spektor\\n- Rodox\\n- Sabotage E Instituto\\n- Sandra De Sá\\n- Santana\\n- Santana Feat. Dave Matthews\\n- Santana Feat. Eagle-Eye Cherry\\n- Santana Feat. Eric Clapton\\n- Santana Feat. Everlast\\n- Santana Feat. Lauryn Hill & Cee-Lo\\n- Santana Feat. Maná\\n- Santana Feat. Rob Thomas\\n- Santana Feat. The Project G&B\\n- Scorpions\\n- Seu Jorge\\n- Simply Red\\n- Snow Patrol\\n- Spyro Gyra\\n- Stereo Maracana\\n- Temple of the Dog\\n- The Cult\\n- The Flaming Lips\\n- The Office\\n- The Postal Service\\n- Tim Maia\\n- Toquinho & Vinícius\\n- U2\\n- UB40\\n- Various Artists\\n- Vinicius, Toquinho & Quarteto Em Cy\\n- Vinícius De Moraes\\n- Vinícius De Moraes & Baden Powell\\n- Vinícius E Odette Lara\\n- Vinícius E Qurteto Em Cy\\n- Whitesnake\\n- Xis\\n- Youssou N\\'Dour\\nHuman: How many artists compose their own tracks and how many don\\'t?\\nAI: 2525 artists compose their own tracks and 978 artists don\\'t compose their own tracks.\\nHuman: How many distinct artists compose their own tracks and how many don\\'t?\\nAI: There are 357 distinct artists who compose their own tracks, and there are 82 artists who do not compose their own tracks.\\nHuman: Which track with the same artist and composer has the highest revenue?\\nAI: The track with the same artist and composer that has the highest revenue is \"The Woman King\" with a revenue of 3.98.\\nHuman: Which track has the highest revenue where the artist is also the composer?\\nAI: The track with the highest revenue where the artist is also the composer is \"Inject The Venom\" by Angus Young, Malcolm Young, and Brian Johnson. The revenue for this track is 1.98.\\nHuman: Which track has the highest revenue where the artist\\'s name is the same as composer\\'s name?\\nAI: There is no track in the database where the artist\\'s name is the same as the composer\\'s name.\\nHuman: Which track has the highest revenue where ArtistName=Composer?\\nAI: There is no track in the database where the ArtistName is equal to the Composer.\\nHuman: Which track has the highest revenue where the artist is himself the composer?\\nAI: The track with the highest revenue where the artist is also the composer is \"Inject The Venom\" with a total revenue of 1.98.',\n",
              " 'result': 'There are 41 artists who compose their own tracks, and 234 artists who do not compose their own tracks.'}"
            ]
          },
          "metadata": {},
          "execution_count": 281
        }
      ]
    },
    {
      "cell_type": "code",
      "source": [
        "db_chain(\"Which track has the highest total revenue where the artist and composer are same?\")"
      ],
      "metadata": {
        "colab": {
          "base_uri": "https://localhost:8080/"
        },
        "id": "iwSbPh2tIEBu",
        "outputId": "16cbd862-0f55-4b7c-c7c1-bf0376bade28"
      },
      "execution_count": null,
      "outputs": [
        {
          "output_type": "stream",
          "name": "stdout",
          "text": [
            "\n",
            "\n",
            "\u001b[1m> Entering new SQLDatabaseChain chain...\u001b[0m\n",
            "Which track has the highest total revenue where the artist and composer are same?\n",
            "SQLQuery:\u001b[32;1m\u001b[1;3mSELECT Artist.Name, Track.Name, SUM(InvoiceLine.UnitPrice * InvoiceLine.Quantity) AS Revenue\n",
            "FROM Track \n",
            "JOIN Album ON Track.AlbumId=Album.AlbumId\n",
            "JOIN Artist ON Album.ArtistId = Artist.ArtistId and track.Composer=Artist.Name\n",
            "JOIN InvoiceLine on Track.TrackId=InvoiceLine.TrackId\n",
            "GROUP BY Artist.Name, Track.Name\n",
            "ORDER BY Revenue DESC\n",
            "LIMIT 1;\u001b[0m\n",
            "SQLResult: \u001b[33;1m\u001b[1;3m[('The Tea Party', 'Release', 2.9699999999999998)]\u001b[0m\n",
            "Answer:\u001b[32;1m\u001b[1;3mThe track \"Release\" by the artist \"The Tea Party\" has the highest total revenue where the artist and composer are the same.\u001b[0m\n",
            "\u001b[1m> Finished chain.\u001b[0m\n"
          ]
        },
        {
          "output_type": "execute_result",
          "data": {
            "text/plain": [
              "{'query': 'Which track has the highest total revenue where the artist and composer are same?',\n",
              " 'history': 'Human: List all distinct playlists and whether they are audio or video.\\nAI: There are 15 distinct playlists in the database. Some playlists are labeled as \"Audio\" while others are labeled as \"Video\". The \"Music\" playlist contains both audio and video tracks. The \"TV Shows\" playlist contains only video tracks. The rest of the playlists are labeled as \"Audio\".\\nHuman: Show me total revenue by country.\\nAI: Total revenue by country:\\n1. USA: $523.06\\n2. Canada: $303.96\\n3. France: $195.10\\n4. Brazil: $190.10\\n5. Germany: $156.48\\n6. United Kingdom: $112.86\\n7. Czech Republic: $90.24\\n8. Portugal: $77.24\\n9. India: $75.26\\n10. Chile: $46.62\\n11. Ireland: $45.62\\n12. Hungary: $45.62\\n13. Austria: $42.62\\n14. Finland: $41.62\\n15. Netherlands: $40.62\\n16. Norway: $39.62\\n17. Sweden: $38.62\\n18. Poland: $37.62\\n19. Italy: $37.62\\n20. Denmark: $37.62\\n21. Australia: $37.62\\n22. Argentina: $37.62\\n23. Spain: $37.62\\n24. Belgium: $37.62\\nHuman: How many invoices does each customer have?\\nAI: Each customer has 7 invoices.\\nHuman: Rank Top 10 customers and their country based on total revenue.\\nAI: The top 10 customers and their countries based on total revenue are:\\n\\n1. CustomerId: 6, Country: Czech Republic, Total Revenue: 49.62\\n2. CustomerId: 26, Country: USA, Total Revenue: 47.62\\n3. CustomerId: 57, Country: Chile, Total Revenue: 46.62\\n4. CustomerId: 45, Country: Hungary, Total Revenue: 45.62\\n5. CustomerId: 46, Country: Ireland, Total Revenue: 45.62\\n6. CustomerId: 37, Country: Germany, Total Revenue: 43.62\\n7. CustomerId: 24, Country: USA, Total Revenue: 43.62\\n8. CustomerId: 28, Country: USA, Total Revenue: 43.62\\n9. CustomerId: 25, Country: USA, Total Revenue: 42.62\\n10. CustomerId: 7, Country: Austria, Total Revenue: 42.62\\nHuman: Rank Top 10 customer names and their country based on total revenue.\\nAI: The top 10 customer names and their countries based on total revenue are as follows:\\n1. Helena Holý from Czech Republic with a total revenue of 49.62\\n2. Richard Cunningham from USA with a total revenue of 47.62\\n3. Luis Rojas from Chile with a total revenue of 46.62\\n4. Ladislav Kovács from Hungary with a total revenue of 45.62\\n5. Hugh O\\'Reilly from Ireland with a total revenue of 45.62\\n6. Julia Barnett from USA with a total revenue of 43.62\\n7. Frank Ralston from USA with a total revenue of 43.62\\n8. Fynn Zimmermann from Germany with a total revenue of 43.62\\n9. Astrid Gruber from Austria with a total revenue of 42.62\\n10. Victor Stevens from USA with a total revenue of 42.62\\nHuman: Which Artists compose their own tracks?\\nAI: AC/DC, Aaron Goldberg, Apocalyptica, Billy Cobham, Buddy Guy, Caetano Veloso, Chris Cornell, Cidade Negra, David Coverdale, Djavan, Eric Clapton, Faith No More, Foo Fighters, Gilberto Gil, Gonzaguinha, Green Day, Gustav Mahler, James Brown, Jimi Hendrix, João Suplicy, Karsh Kale, Lenny Kravitz, Marcos Valle, Marvin Gaye, Metallica, Miles Davis, Milton Nascimento, Mônica Marianno, Nirvana, Pearl Jam, Queen, R.E.M., Red Hot Chili Peppers, Santana, Soundgarden, The Clash, The Tea Party, Tim Maia, Titãs, U2, Van Halen\\nHuman: Which Artists have never composed their own tracks?\\nAI: The artists who have never composed their own tracks are:\\n- A Cor Do Som\\n- Academy of St. Martin in the Fields, Sir Neville Marriner & William Bennett\\n- Accept\\n- Aerosmith & Sierra Leone\\'s Refugee Allstars\\n- Amy Winehouse\\n- Antônio Carlos Jobim\\n- Aquaman\\n- Audioslave\\n- Avril Lavigne\\n- Azymuth\\n- Baby Consuelo\\n- Banda Black Rio\\n- Barão Vermelho\\n- Battlestar Galactica\\n- Battlestar Galactica (Classic)\\n- Bebel Gilberto\\n- Ben Harper\\n- Big & Rich\\n- Black Eyed Peas\\n- Black Label Society\\n- Black Sabbath\\n- Body Count\\n- Caetano Veloso\\n- Cake\\n- Calexico\\n- Charlie Brown Jr.\\n- Chico Buarque\\n- Chico Science & Nação Zumbi\\n- Christina Aguilera featuring BigElf\\n- Christopher O\\'Riley\\n- Cláudio Zoli\\n- Corinne Bailey Rae\\n- Cássia Eller\\n- DJ Dolores & Orchestra Santa Massa\\n- Def Leppard\\n- Dhani Harrison & Jakob Dylan\\n- Djavan\\n- Ed Motta\\n- Edson, DJ Marky & DJ Patife Featuring Fernanda Porto\\n- Elis Regina\\n- Eugene Ormandy\\n- Faith No More\\n- Falamansa\\n- Fernanda Porto\\n- Funk Como Le Gusta\\n- Gene Krupa\\n- Gerald Moore\\n- Gilberto Gil\\n- Gonzaguinha\\n- Guns N\\' Roses\\n- Gustavo & Andres Veiga & Salazar\\n- Hermeto Pascoal\\n- Heroes\\n- Instituto\\n- Iron Maiden\\n- Jack Johnson\\n- Jack\\'s Mannequin & Mick Fleetwood\\n- Jackson Browne\\n- Jaguares\\n- Joe Satriani\\n- Jorge Ben\\n- Jorge Vercilo\\n- Jota Quest\\n- João Gilberto\\n- Judas Priest\\n- Kid Abelha\\n- Lenny Kravitz\\n- Los Hermanos\\n- Los Lonely Boys\\n- Lost\\n- Luiz Melodia\\n- Lulu Santos\\n- Marvin Gaye\\n- Matisyahu\\n- Men At Work\\n- Michael Tilson Thomas & San Francisco Symphony\\n- Michele Campanella\\n- Milton Nascimento & Bebeto\\n- Motörhead & Girlschool\\n- Mundo Livre S/A\\n- Nando Reis\\n- Nação Zumbi\\n- Nega Gizza\\n- Ney Matogrosso\\n- O Rappa\\n- O Terço\\n- Olodum\\n- Os Cariocas\\n- Os Paralamas Do Sucesso\\n- Otto\\n- Ozzy Osbourne\\n- Pedro Luís & A Parede\\n- Pedro Luís E A Parede\\n- Peter Tosh\\n- Philharmonia Orchestra & Sir Neville Marriner\\n- Planet Hemp\\n- R.E.M. Feat. KRS-One\\n- Raul Seixas\\n- Regina Spektor\\n- Rodox\\n- Sabotage E Instituto\\n- Sandra De Sá\\n- Santana\\n- Santana Feat. Dave Matthews\\n- Santana Feat. Eagle-Eye Cherry\\n- Santana Feat. Eric Clapton\\n- Santana Feat. Everlast\\n- Santana Feat. Lauryn Hill & Cee-Lo\\n- Santana Feat. Maná\\n- Santana Feat. Rob Thomas\\n- Santana Feat. The Project G&B\\n- Scorpions\\n- Seu Jorge\\n- Simply Red\\n- Snow Patrol\\n- Spyro Gyra\\n- Stereo Maracana\\n- Temple of the Dog\\n- The Cult\\n- The Flaming Lips\\n- The Office\\n- The Postal Service\\n- Tim Maia\\n- Toquinho & Vinícius\\n- U2\\n- UB40\\n- Various Artists\\n- Vinicius, Toquinho & Quarteto Em Cy\\n- Vinícius De Moraes\\n- Vinícius De Moraes & Baden Powell\\n- Vinícius E Odette Lara\\n- Vinícius E Qurteto Em Cy\\n- Whitesnake\\n- Xis\\n- Youssou N\\'Dour\\nHuman: How many artists compose their own tracks and how many don\\'t?\\nAI: 2525 artists compose their own tracks and 978 artists don\\'t compose their own tracks.\\nHuman: How many distinct artists compose their own tracks and how many don\\'t?\\nAI: There are 357 distinct artists who compose their own tracks, and there are 82 artists who do not compose their own tracks.\\nHuman: Which track with the same artist and composer has the highest revenue?\\nAI: The track with the same artist and composer that has the highest revenue is \"The Woman King\" with a revenue of 3.98.\\nHuman: Which track has the highest revenue where the artist is also the composer?\\nAI: The track with the highest revenue where the artist is also the composer is \"Inject The Venom\" by Angus Young, Malcolm Young, and Brian Johnson. The revenue for this track is 1.98.\\nHuman: Which track has the highest revenue where the artist\\'s name is the same as composer\\'s name?\\nAI: There is no track in the database where the artist\\'s name is the same as the composer\\'s name.\\nHuman: Which track has the highest revenue where ArtistName=Composer?\\nAI: There is no track in the database where the ArtistName is equal to the Composer.\\nHuman: Which track has the highest revenue where the artist is himself the composer?\\nAI: The track with the highest revenue where the artist is also the composer is \"Inject The Venom\" with a total revenue of 1.98.\\nHuman: How many distinct artists compose their own tracks and how many don\\'t?\\nAI: There are 41 artists who compose their own tracks, and 234 artists who do not compose their own tracks.\\nHuman: Which track has the highest revenue where the artist is himself the composer?\\nAI: The track with the highest revenue where the artist is himself the composer is \"Overdose\" with a revenue of 1.98.\\nHuman: Which track has the highest total revenue where the artist is himself the composer?\\nAI: The track with the highest total revenue where the artist is himself the composer is \"Overdose\" with a total revenue of 1.98.\\nHuman: Which track has the highest total revenue where the artist and composer are same?\\nAI: The track with the highest total revenue where the artist and composer are the same is \"Overdose\" with a total revenue of 1.98.\\nHuman: Which track has the highest total revenue where the artist and composer are same?\\nAI: The track with the highest total revenue where the artist and composer are the same is \"Overdose\" with a total revenue of 1.98.',\n",
              " 'result': 'The track \"Release\" by the artist \"The Tea Party\" has the highest total revenue where the artist and composer are the same.'}"
            ]
          },
          "metadata": {},
          "execution_count": 290
        }
      ]
    },
    {
      "cell_type": "code",
      "source": [
        "db_chain(\"Top 10 pair of tracks that were purchased by the same customer. Rank based on the total number of customers who purchased.\")"
      ],
      "metadata": {
        "id": "4vFlHzak3HrQ",
        "colab": {
          "base_uri": "https://localhost:8080/"
        },
        "outputId": "6e9055e4-9a09-4ab5-fe91-2fc916dbcdbc"
      },
      "execution_count": null,
      "outputs": [
        {
          "output_type": "stream",
          "name": "stdout",
          "text": [
            "\n",
            "\n",
            "\u001b[1m> Entering new SQLDatabaseChain chain...\u001b[0m\n",
            "Top 10 pair of tracks that were purchased by the same customer. Rank based on the total number of customers who purchased.\n",
            "SQLQuery:\u001b[32;1m\u001b[1;3mWITH TrackPairs AS (\n",
            "    SELECT\n",
            "        il1.TrackId AS TrackId1,\n",
            "        il2.TrackId AS TrackId2,\n",
            "        COUNT(DISTINCT i.CustomerId) AS CustomerCount\n",
            "    FROM\n",
            "        InvoiceLine il1\n",
            "    JOIN\n",
            "        InvoiceLine il2 ON il1.InvoiceId = il2.InvoiceId AND il1.TrackId < il2.TrackId\n",
            "    JOIN\n",
            "        Invoice i ON il1.InvoiceId = i.InvoiceId\n",
            "    GROUP BY\n",
            "        il1.TrackId,\n",
            "        il2.TrackId\n",
            ")\n",
            "SELECT\n",
            "    t1.Name AS Track1,\n",
            "    t2.Name AS Track2,\n",
            "    tp.CustomerCount\n",
            "FROM\n",
            "    TrackPairs tp\n",
            "JOIN\n",
            "    Track t1 ON tp.TrackId1 = t1.TrackId\n",
            "JOIN\n",
            "    Track t2 ON tp.TrackId2 = t2.TrackId\n",
            "ORDER BY\n",
            "    tp.CustomerCount DESC\n",
            "LIMIT 10;\u001b[0m\n",
            "SQLResult: \u001b[33;1m\u001b[1;3m[('Snowballed', 'String Quartet No. 12 in C Minor, D. 703 \"Quartettsatz\": II. Andante - Allegro assai', 2), ('Overdose', 'Deuces Are Wild', 2), ('Not The Doctor', 'Por Causa De Você', 2), ('Not The Doctor', 'Welcome Home (Sanitarium)', 2), ('Por Causa De Você', 'Welcome Home (Sanitarium)', 2), ('Samba De Orly', 'Geni E O Zepelim', 2), ('Samba Do Lado', 'Amor De Muito', 2), ('Lixo Do Mangue', 'A Cor Do Sol', 2), ('Lixo Do Mangue', 'Linha Do Equador', 2), ('A Cor Do Sol', 'Linha Do Equador', 2)]\u001b[0m\n",
            "Answer:\u001b[32;1m\u001b[1;3mThe top 10 pairs of tracks that were purchased by the same customer, ranked based on the total number of customers who purchased, are as follows:\n",
            "\n",
            "1. Track1: \"Snowballed\", Track2: \"String Quartet No. 12 in C Minor, D. 703 \"Quartettsatz\": II. Andante - Allegro assai\", CustomerCount: 2\n",
            "2. Track1: \"Overdose\", Track2: \"Deuces Are Wild\", CustomerCount: 2\n",
            "3. Track1: \"Not The Doctor\", Track2: \"Por Causa De Você\", CustomerCount: 2\n",
            "4. Track1: \"Not The Doctor\", Track2: \"Welcome Home (Sanitarium)\", CustomerCount: 2\n",
            "5. Track1: \"Por Causa De Você\", Track2: \"Welcome Home (Sanitarium)\", CustomerCount: 2\n",
            "6. Track1: \"Samba De Orly\", Track2: \"Geni E O Zepelim\", CustomerCount: 2\n",
            "7. Track1: \"Samba Do Lado\", Track2: \"Amor De Muito\", CustomerCount: 2\n",
            "8. Track1: \"Lixo Do Mangue\", Track2: \"A Cor Do Sol\", CustomerCount: 2\n",
            "9. Track1: \"Lixo Do Mangue\", Track2: \"Linha Do Equador\", CustomerCount: 2\n",
            "10. Track1: \"A Cor Do Sol\", Track2: \"Linha Do Equador\", CustomerCount: 2\u001b[0m\n",
            "\u001b[1m> Finished chain.\u001b[0m\n"
          ]
        },
        {
          "output_type": "execute_result",
          "data": {
            "text/plain": [
              "{'query': 'Top 10 pair of tracks that were purchased by the same customer. Rank based on the total number of customers who purchased.',\n",
              " 'result': 'The top 10 pairs of tracks that were purchased by the same customer, ranked based on the total number of customers who purchased, are as follows:\\n\\n1. Track1: \"Snowballed\", Track2: \"String Quartet No. 12 in C Minor, D. 703 \"Quartettsatz\": II. Andante - Allegro assai\", CustomerCount: 2\\n2. Track1: \"Overdose\", Track2: \"Deuces Are Wild\", CustomerCount: 2\\n3. Track1: \"Not The Doctor\", Track2: \"Por Causa De Você\", CustomerCount: 2\\n4. Track1: \"Not The Doctor\", Track2: \"Welcome Home (Sanitarium)\", CustomerCount: 2\\n5. Track1: \"Por Causa De Você\", Track2: \"Welcome Home (Sanitarium)\", CustomerCount: 2\\n6. Track1: \"Samba De Orly\", Track2: \"Geni E O Zepelim\", CustomerCount: 2\\n7. Track1: \"Samba Do Lado\", Track2: \"Amor De Muito\", CustomerCount: 2\\n8. Track1: \"Lixo Do Mangue\", Track2: \"A Cor Do Sol\", CustomerCount: 2\\n9. Track1: \"Lixo Do Mangue\", Track2: \"Linha Do Equador\", CustomerCount: 2\\n10. Track1: \"A Cor Do Sol\", Track2: \"Linha Do Equador\", CustomerCount: 2'}"
            ]
          },
          "metadata": {},
          "execution_count": 148
        }
      ]
    },
    {
      "cell_type": "code",
      "source": [
        "db_chain(\"Which artist on an average has the shortest video tracks in minutes?\")"
      ],
      "metadata": {
        "id": "0-djN-s-WIh7",
        "colab": {
          "base_uri": "https://localhost:8080/"
        },
        "outputId": "0bd15016-88a9-4522-f472-b143bc6db369"
      },
      "execution_count": null,
      "outputs": [
        {
          "output_type": "stream",
          "name": "stdout",
          "text": [
            "\n",
            "\n",
            "\u001b[1m> Entering new SQLDatabaseChain chain...\u001b[0m\n",
            "Which artist on an average has the shortest video tracks in minutes?\n",
            "SQLQuery:\u001b[32;1m\u001b[1;3mWITH VideoTracks AS (\n",
            "    SELECT\n",
            "        t.TrackId,\n",
            "        t.Name,\n",
            "        t.Milliseconds / 60000.0 AS DurationInMinutes,\n",
            "        a.ArtistId,\n",
            "        a.Name AS ArtistName\n",
            "    FROM\n",
            "        Track t\n",
            "    JOIN\n",
            "        MediaType mt ON t.MediaTypeId = mt.MediaTypeId\n",
            "    JOIN\n",
            "        Genre g ON t.GenreId = g.GenreId\n",
            "    JOIN\n",
            "        Album al ON t.AlbumId = al.AlbumId\n",
            "    JOIN\n",
            "        Artist a ON al.ArtistId = a.ArtistId\n",
            "    WHERE\n",
            "        mt.Name LIKE '%video%'\n",
            ")\n",
            "SELECT\n",
            "    ArtistName,\n",
            "    AVG(DurationInMinutes) AS AverageDurationInMinutes\n",
            "FROM\n",
            "    VideoTracks\n",
            "GROUP BY\n",
            "    ArtistId\n",
            "ORDER BY\n",
            "    AverageDurationInMinutes ASC;\u001b[0m\n",
            "SQLResult: \u001b[33;1m\u001b[1;3m[('Audioslave', 4.9049), ('The Office', 23.56241037735849), ('Aquaman', 41.40945), ('Lost', 43.1664097826087), ('Heroes', 43.319034782608696), ('Battlestar Galactica', 46.174409166666656), ('Battlestar Galactica (Classic)', 48.75957222222221)]\u001b[0m\n",
            "Answer:\u001b[32;1m\u001b[1;3mThe artist on average with the shortest video tracks in minutes is Audioslave.\u001b[0m\n",
            "\u001b[1m> Finished chain.\u001b[0m\n"
          ]
        },
        {
          "output_type": "execute_result",
          "data": {
            "text/plain": [
              "{'query': 'Which artist on an average has the shortest video tracks in minutes?',\n",
              " 'result': 'The artist on average with the shortest video tracks in minutes is Audioslave.'}"
            ]
          },
          "metadata": {},
          "execution_count": 220
        }
      ]
    },
    {
      "cell_type": "code",
      "source": [
        "db_chain(\"Rank top 10 countries by video sales revenue. Who is the best video sales rep for customers outside the USA?\")"
      ],
      "metadata": {
        "id": "vp8IUJTpW1xJ",
        "colab": {
          "base_uri": "https://localhost:8080/"
        },
        "outputId": "e5f2001c-40cf-4429-82a7-4e16449ecf55"
      },
      "execution_count": null,
      "outputs": [
        {
          "output_type": "stream",
          "name": "stdout",
          "text": [
            "\n",
            "\n",
            "\u001b[1m> Entering new SQLDatabaseChain chain...\u001b[0m\n",
            "Rank top 10 countries by video sales revenue. Who is the best video sales rep for customers outside the USA?\n",
            "SQLQuery:\u001b[32;1m\u001b[1;3mWITH VideoSales AS (\n",
            "    SELECT\n",
            "        c.Country,\n",
            "        SUM(il.UnitPrice * il.Quantity) AS Revenue,\n",
            "        e.FirstName || ' ' || e.LastName AS SalesRep\n",
            "    FROM\n",
            "        Invoice i\n",
            "    JOIN\n",
            "        Customer c ON i.CustomerId = c.CustomerId\n",
            "    JOIN\n",
            "        InvoiceLine il ON i.InvoiceId = il.InvoiceId\n",
            "    JOIN\n",
            "        Track t ON il.TrackId = t.TrackId\n",
            "    JOIN\n",
            "        MediaType mt ON t.MediaTypeId = mt.MediaTypeId\n",
            "    JOIN\n",
            "        Employee e ON c.SupportRepId = e.EmployeeId\n",
            "    WHERE\n",
            "        mt.Name LIKE '%video%'\n",
            "    GROUP BY\n",
            "        c.Country, SalesRep\n",
            ")\n",
            "SELECT\n",
            "    Country,\n",
            "    SUM(Revenue) AS TotalRevenue,\n",
            "    MAX(SalesRep) AS BestSalesRep\n",
            "FROM\n",
            "    VideoSales\n",
            "WHERE\n",
            "    Country != 'USA'\n",
            "GROUP BY\n",
            "    Country\n",
            "ORDER BY\n",
            "    TotalRevenue DESC\n",
            "LIMIT 10;\u001b[0m\n",
            "SQLResult: \u001b[33;1m\u001b[1;3m[('Czech Republic', 29.849999999999994, 'Steve Johnson'), ('Chile', 17.91, 'Steve Johnson'), ('Ireland', 15.92, 'Jane Peacock'), ('Hungary', 15.92, 'Jane Peacock'), ('France', 13.93, 'Margaret Park'), ('Germany', 11.94, 'Jane Peacock'), ('Austria', 9.95, 'Steve Johnson'), ('Finland', 7.96, 'Jane Peacock'), ('Netherlands', 5.97, 'Steve Johnson'), ('Canada', 5.97, 'Jane Peacock')]\u001b[0m\n",
            "Answer:\u001b[32;1m\u001b[1;3mThe top 10 countries ranked by video sales revenue are as follows:\n",
            "1. Czech Republic - $29.85\n",
            "2. Chile - $17.91\n",
            "3. Ireland - $15.92\n",
            "4. Hungary - $15.92\n",
            "5. France - $13.93\n",
            "6. Germany - $11.94\n",
            "7. Austria - $9.95\n",
            "8. Finland - $7.96\n",
            "9. Netherlands - $5.97\n",
            "10. Canada - $5.97\n",
            "\n",
            "The best video sales representative for customers outside the USA is Steve Johnson.\u001b[0m\n",
            "\u001b[1m> Finished chain.\u001b[0m\n"
          ]
        },
        {
          "output_type": "execute_result",
          "data": {
            "text/plain": [
              "{'query': 'Rank top 10 countries by video sales revenue. Who is the best video sales rep for customers outside the USA?',\n",
              " 'result': 'The top 10 countries ranked by video sales revenue are as follows:\\n1. Czech Republic - $29.85\\n2. Chile - $17.91\\n3. Ireland - $15.92\\n4. Hungary - $15.92\\n5. France - $13.93\\n6. Germany - $11.94\\n7. Austria - $9.95\\n8. Finland - $7.96\\n9. Netherlands - $5.97\\n10. Canada - $5.97\\n\\nThe best video sales representative for customers outside the USA is Steve Johnson.'}"
            ]
          },
          "metadata": {},
          "execution_count": 228
        }
      ]
    },
    {
      "cell_type": "code",
      "source": [
        "db_chain(\"Which pair of artists are most purchased together on the same date? Display the top 10 artists and their purchase frequency.\")"
      ],
      "metadata": {
        "id": "C2_bQzjO0HnF",
        "colab": {
          "base_uri": "https://localhost:8080/"
        },
        "outputId": "2c26bf52-6115-44e4-ad03-f337915ff10a"
      },
      "execution_count": null,
      "outputs": [
        {
          "output_type": "stream",
          "name": "stdout",
          "text": [
            "\n",
            "\n",
            "\u001b[1m> Entering new SQLDatabaseChain chain...\u001b[0m\n",
            "Which pair of artists are most purchased together on the same date? Display the top 10 artists and their purchase frequency.\n",
            "SQLQuery:\u001b[32;1m\u001b[1;3mWITH ArtistPurchaseDates AS (\n",
            "    SELECT i.InvoiceDate, a.ArtistId, COUNT(*) as Count\n",
            "    FROM Invoice i\n",
            "    JOIN InvoiceLine il ON i.InvoiceId = il.InvoiceId\n",
            "    JOIN Track t ON il.TrackId = t.TrackId\n",
            "    JOIN Album a ON t.AlbumId = a.AlbumId\n",
            "    GROUP BY i.InvoiceDate, a.ArtistId\n",
            ")\n",
            "\n",
            "SELECT ar1.Name as Artist1, ar2.Name as Artist2, SUM(apd1.Count + apd2.Count) as TotalCount\n",
            "FROM ArtistPurchaseDates apd1\n",
            "JOIN ArtistPurchaseDates apd2 ON apd1.InvoiceDate = apd2.InvoiceDate AND apd1.ArtistId < apd2.ArtistId\n",
            "JOIN Artist ar1 ON apd1.ArtistId = ar1.ArtistId\n",
            "JOIN Artist ar2 ON apd2.ArtistId = ar2.ArtistId\n",
            "GROUP BY apd1.ArtistId, apd2.ArtistId\n",
            "ORDER BY TotalCount DESC\n",
            "LIMIT 10;\u001b[0m\n",
            "SQLResult: \u001b[33;1m\u001b[1;3m[('Lost', 'U2', 48), ('Deep Purple', 'Def Leppard', 35), ('Deep Purple', 'Dennis Chambers', 32), ('Lenny Kravitz', 'Pearl Jam', 31), ('Deep Purple', 'Cássia Eller', 30), ('Pearl Jam', 'Pink Floyd', 29), ('Deep Purple', 'Djavan', 27), (\"Paul D'Ianno\", 'Pearl Jam', 27), ('R.E.M. Feat. Kate Pearson', 'R.E.M.', 27), ('Heroes', 'Lost', 27)]\u001b[0m\n",
            "Answer:\u001b[32;1m\u001b[1;3mThe pair of artists that are most purchased together on the same date are 'Lost' and 'U2', with a purchase frequency of 48.\u001b[0m\n",
            "\u001b[1m> Finished chain.\u001b[0m\n"
          ]
        },
        {
          "output_type": "execute_result",
          "data": {
            "text/plain": [
              "{'query': 'Which pair of artists are most purchased together on the same date? Display the top 10 artists and their purchase frequency.',\n",
              " 'result': \"The pair of artists that are most purchased together on the same date are 'Lost' and 'U2', with a purchase frequency of 48.\"}"
            ]
          },
          "metadata": {},
          "execution_count": 161
        }
      ]
    },
    {
      "cell_type": "code",
      "source": [
        "db_chain(\"Rank the top 5 customer-sales rep pair by total sales.\")"
      ],
      "metadata": {
        "id": "3Jxraw_WFwdr",
        "colab": {
          "base_uri": "https://localhost:8080/"
        },
        "outputId": "7ce73a70-8a3d-4ba1-9a7d-c3b401dcb545"
      },
      "execution_count": null,
      "outputs": [
        {
          "output_type": "stream",
          "name": "stdout",
          "text": [
            "\n",
            "\n",
            "\u001b[1m> Entering new SQLDatabaseChain chain...\u001b[0m\n",
            "Rank the top 5 customer-sales rep pair by total sales.\n",
            "SQLQuery:\u001b[32;1m\u001b[1;3mWITH CustomerSales AS (\n",
            "    SELECT\n",
            "        c.CustomerId,\n",
            "        c.FirstName || ' ' || c.LastName AS CustomerName,\n",
            "        e.EmployeeId,\n",
            "        e.FirstName || ' ' || e.LastName AS SalesRepName,\n",
            "        SUM(i.Total) AS TotalSales\n",
            "    FROM\n",
            "        Customer c\n",
            "    JOIN\n",
            "        Employee e ON c.SupportRepId = e.EmployeeId\n",
            "    JOIN\n",
            "        Invoice i ON c.CustomerId = i.CustomerId\n",
            "    GROUP BY\n",
            "        c.CustomerId, e.EmployeeId\n",
            ")\n",
            "SELECT\n",
            "    CustomerName,\n",
            "    SalesRepName,\n",
            "    TotalSales\n",
            "FROM\n",
            "    CustomerSales\n",
            "ORDER BY\n",
            "    TotalSales DESC\n",
            "LIMIT 5;\u001b[0m\n",
            "SQLResult: \u001b[33;1m\u001b[1;3m[('Helena Holý', 'Steve Johnson', 49.620000000000005), ('Richard Cunningham', 'Margaret Park', 47.620000000000005), ('Luis Rojas', 'Steve Johnson', 46.62), ('Ladislav Kovács', 'Jane Peacock', 45.62), (\"Hugh O'Reilly\", 'Jane Peacock', 45.62)]\u001b[0m\n",
            "Answer:\u001b[32;1m\u001b[1;3mThe top 5 customer-sales rep pairs by total sales are:\n",
            "\n",
            "1. Customer: Helena Holý, Sales Rep: Steve Johnson, Total Sales: $49.62\n",
            "2. Customer: Richard Cunningham, Sales Rep: Margaret Park, Total Sales: $47.62\n",
            "3. Customer: Luis Rojas, Sales Rep: Steve Johnson, Total Sales: $46.62\n",
            "4. Customer: Ladislav Kovács, Sales Rep: Jane Peacock, Total Sales: $45.62\n",
            "5. Customer: Hugh O'Reilly, Sales Rep: Jane Peacock, Total Sales: $45.62\u001b[0m\n",
            "\u001b[1m> Finished chain.\u001b[0m\n"
          ]
        },
        {
          "output_type": "execute_result",
          "data": {
            "text/plain": [
              "{'query': 'Rank the top 5 customer-sales rep pair by total sales.',\n",
              " 'result': \"The top 5 customer-sales rep pairs by total sales are:\\n\\n1. Customer: Helena Holý, Sales Rep: Steve Johnson, Total Sales: $49.62\\n2. Customer: Richard Cunningham, Sales Rep: Margaret Park, Total Sales: $47.62\\n3. Customer: Luis Rojas, Sales Rep: Steve Johnson, Total Sales: $46.62\\n4. Customer: Ladislav Kovács, Sales Rep: Jane Peacock, Total Sales: $45.62\\n5. Customer: Hugh O'Reilly, Sales Rep: Jane Peacock, Total Sales: $45.62\"}"
            ]
          },
          "metadata": {},
          "execution_count": 229
        }
      ]
    },
    {
      "cell_type": "code",
      "source": [
        "db_chain(\"Are my sales going up or down month over month?\")"
      ],
      "metadata": {
        "id": "sMpfBEs7H-5H",
        "colab": {
          "base_uri": "https://localhost:8080/"
        },
        "outputId": "76df9d6d-9566-435f-b8df-eec01646bd15"
      },
      "execution_count": null,
      "outputs": [
        {
          "output_type": "stream",
          "name": "stdout",
          "text": [
            "\n",
            "\n",
            "\u001b[1m> Entering new SQLDatabaseChain chain...\u001b[0m\n",
            "Are my sales going up or down month over month?\n",
            "SQLQuery:\u001b[32;1m\u001b[1;3mWITH MonthlySales AS (\n",
            "    SELECT \n",
            "        strftime('%Y-%m', InvoiceDate) AS Month,\n",
            "        SUM(Total) AS TotalSales\n",
            "    FROM \n",
            "        Invoice\n",
            "    GROUP BY \n",
            "        Month\n",
            "    ORDER BY \n",
            "        Month\n",
            ")\n",
            "SELECT \n",
            "    Month,\n",
            "    TotalSales,\n",
            "    LAG(TotalSales) OVER (ORDER BY Month) AS PreviousMonthSales,\n",
            "    CASE \n",
            "        WHEN TotalSales > LAG(TotalSales) OVER (ORDER BY Month) THEN 'Up'\n",
            "        WHEN TotalSales < LAG(TotalSales) OVER (ORDER BY Month) THEN 'Down'\n",
            "        ELSE 'No Change'\n",
            "    END AS SalesTrend\n",
            "FROM \n",
            "    MonthlySales;\u001b[0m\n",
            "SQLResult: \u001b[33;1m\u001b[1;3m[('2009-01', 35.64, None, 'No Change'), ('2009-02', 37.62, 35.64, 'Up'), ('2009-03', 37.62, 37.62, 'No Change'), ('2009-04', 37.62, 37.62, 'No Change'), ('2009-05', 37.62, 37.62, 'No Change'), ('2009-06', 37.62, 37.62, 'No Change'), ('2009-07', 37.62, 37.62, 'No Change'), ('2009-08', 37.62, 37.62, 'No Change'), ('2009-09', 37.62, 37.62, 'No Change'), ('2009-10', 37.62, 37.62, 'No Change'), ('2009-11', 37.62, 37.62, 'No Change'), ('2009-12', 37.62, 37.62, 'No Change'), ('2010-01', 52.62, 37.62, 'Up'), ('2010-02', 46.62, 52.62, 'Down'), ('2010-03', 44.62, 46.62, 'Down'), ('2010-04', 37.62, 44.62, 'Down'), ('2010-05', 37.62, 37.62, 'No Change'), ('2010-06', 37.62, 37.62, 'No Change'), ('2010-07', 37.62, 37.62, 'No Change'), ('2010-08', 37.62, 37.62, 'No Change'), ('2010-09', 36.629999999999995, 37.62, 'Down'), ('2010-10', 37.620000000000005, 36.629999999999995, 'Up'), ('2010-11', 37.620000000000005, 37.620000000000005, 'No Change'), ('2010-12', 37.620000000000005, 37.620000000000005, 'No Change'), ('2011-01', 37.620000000000005, 37.620000000000005, 'No Change'), ('2011-02', 37.620000000000005, 37.620000000000005, 'No Change'), ('2011-03', 37.620000000000005, 37.620000000000005, 'No Change'), ('2011-04', 51.620000000000005, 37.620000000000005, 'Up'), ('2011-05', 42.620000000000005, 51.620000000000005, 'Down'), ('2011-06', 50.620000000000005, 42.620000000000005, 'Up'), ('2011-07', 37.620000000000005, 50.620000000000005, 'Down'), ('2011-08', 37.620000000000005, 37.620000000000005, 'No Change'), ('2011-09', 37.620000000000005, 37.620000000000005, 'No Change'), ('2011-10', 37.620000000000005, 37.620000000000005, 'No Change'), ('2011-11', 23.76, 37.620000000000005, 'Down'), ('2011-12', 37.620000000000005, 23.76, 'Up'), ('2012-01', 37.620000000000005, 37.620000000000005, 'No Change'), ('2012-02', 37.620000000000005, 37.620000000000005, 'No Change'), ('2012-03', 37.620000000000005, 37.620000000000005, 'No Change'), ('2012-04', 37.620000000000005, 37.620000000000005, 'No Change'), ('2012-05', 37.620000000000005, 37.620000000000005, 'No Change'), ('2012-06', 37.620000000000005, 37.620000000000005, 'No Change'), ('2012-07', 39.620000000000005, 37.620000000000005, 'Up'), ('2012-08', 47.61999999999999, 39.620000000000005, 'Up'), ('2012-09', 46.709999999999994, 47.61999999999999, 'Down'), ('2012-10', 42.62, 46.709999999999994, 'Down'), ('2012-11', 37.62, 42.62, 'Down'), ('2012-12', 37.62, 37.62, 'No Change'), ('2013-01', 37.62, 37.62, 'No Change'), ('2013-02', 27.72, 37.62, 'Down'), ('2013-03', 37.62, 27.72, 'Up'), ('2013-04', 33.660000000000004, 37.62, 'Down'), ('2013-05', 37.62, 33.660000000000004, 'Up'), ('2013-06', 37.62, 37.62, 'No Change'), ('2013-07', 37.62, 37.62, 'No Change'), ('2013-08', 37.62, 37.62, 'No Change'), ('2013-09', 37.62, 37.62, 'No Change'), ('2013-10', 37.62, 37.62, 'No Change'), ('2013-11', 49.62, 37.62, 'Up'), ('2013-12', 38.62, 49.62, 'Down')]\u001b[0m\n",
            "Answer:\u001b[32;1m\u001b[1;3mThe sales are fluctuating month over month. There is no consistent trend of sales going up or down.\u001b[0m\n",
            "\u001b[1m> Finished chain.\u001b[0m\n"
          ]
        },
        {
          "output_type": "execute_result",
          "data": {
            "text/plain": [
              "{'query': 'Are my sales going up or down month over month?',\n",
              " 'history': 'Human: List all distinct playlists and whether they are audio or video.\\nAI: There are 15 distinct playlists in the database. Some playlists are labeled as \"Audio\" while others are labeled as \"Video\". The \"Music\" playlist contains both audio and video tracks. The \"TV Shows\" playlist contains only video tracks. The rest of the playlists are labeled as \"Audio\".\\nHuman: Show me total revenue by country.\\nAI: Total revenue by country:\\n1. USA: $523.06\\n2. Canada: $303.96\\n3. France: $195.10\\n4. Brazil: $190.10\\n5. Germany: $156.48\\n6. United Kingdom: $112.86\\n7. Czech Republic: $90.24\\n8. Portugal: $77.24\\n9. India: $75.26\\n10. Chile: $46.62\\n11. Ireland: $45.62\\n12. Hungary: $45.62\\n13. Austria: $42.62\\n14. Finland: $41.62\\n15. Netherlands: $40.62\\n16. Norway: $39.62\\n17. Sweden: $38.62\\n18. Poland: $37.62\\n19. Italy: $37.62\\n20. Denmark: $37.62\\n21. Australia: $37.62\\n22. Argentina: $37.62\\n23. Spain: $37.62\\n24. Belgium: $37.62\\nHuman: How many invoices does each customer have?\\nAI: Each customer has 7 invoices.\\nHuman: Rank Top 10 customers and their country based on total revenue.\\nAI: The top 10 customers and their countries based on total revenue are:\\n\\n1. CustomerId: 6, Country: Czech Republic, Total Revenue: 49.62\\n2. CustomerId: 26, Country: USA, Total Revenue: 47.62\\n3. CustomerId: 57, Country: Chile, Total Revenue: 46.62\\n4. CustomerId: 45, Country: Hungary, Total Revenue: 45.62\\n5. CustomerId: 46, Country: Ireland, Total Revenue: 45.62\\n6. CustomerId: 37, Country: Germany, Total Revenue: 43.62\\n7. CustomerId: 24, Country: USA, Total Revenue: 43.62\\n8. CustomerId: 28, Country: USA, Total Revenue: 43.62\\n9. CustomerId: 25, Country: USA, Total Revenue: 42.62\\n10. CustomerId: 7, Country: Austria, Total Revenue: 42.62\\nHuman: Rank Top 10 customer names and their country based on total revenue.\\nAI: The top 10 customer names and their countries based on total revenue are as follows:\\n1. Helena Holý from Czech Republic with a total revenue of 49.62\\n2. Richard Cunningham from USA with a total revenue of 47.62\\n3. Luis Rojas from Chile with a total revenue of 46.62\\n4. Ladislav Kovács from Hungary with a total revenue of 45.62\\n5. Hugh O\\'Reilly from Ireland with a total revenue of 45.62\\n6. Julia Barnett from USA with a total revenue of 43.62\\n7. Frank Ralston from USA with a total revenue of 43.62\\n8. Fynn Zimmermann from Germany with a total revenue of 43.62\\n9. Astrid Gruber from Austria with a total revenue of 42.62\\n10. Victor Stevens from USA with a total revenue of 42.62\\nHuman: Which Artists compose their own tracks?\\nAI: AC/DC, Aaron Goldberg, Apocalyptica, Billy Cobham, Buddy Guy, Caetano Veloso, Chris Cornell, Cidade Negra, David Coverdale, Djavan, Eric Clapton, Faith No More, Foo Fighters, Gilberto Gil, Gonzaguinha, Green Day, Gustav Mahler, James Brown, Jimi Hendrix, João Suplicy, Karsh Kale, Lenny Kravitz, Marcos Valle, Marvin Gaye, Metallica, Miles Davis, Milton Nascimento, Mônica Marianno, Nirvana, Pearl Jam, Queen, R.E.M., Red Hot Chili Peppers, Santana, Soundgarden, The Clash, The Tea Party, Tim Maia, Titãs, U2, Van Halen\\nHuman: Which Artists have never composed their own tracks?\\nAI: The artists who have never composed their own tracks are:\\n- A Cor Do Som\\n- Academy of St. Martin in the Fields, Sir Neville Marriner & William Bennett\\n- Accept\\n- Aerosmith & Sierra Leone\\'s Refugee Allstars\\n- Amy Winehouse\\n- Antônio Carlos Jobim\\n- Aquaman\\n- Audioslave\\n- Avril Lavigne\\n- Azymuth\\n- Baby Consuelo\\n- Banda Black Rio\\n- Barão Vermelho\\n- Battlestar Galactica\\n- Battlestar Galactica (Classic)\\n- Bebel Gilberto\\n- Ben Harper\\n- Big & Rich\\n- Black Eyed Peas\\n- Black Label Society\\n- Black Sabbath\\n- Body Count\\n- Caetano Veloso\\n- Cake\\n- Calexico\\n- Charlie Brown Jr.\\n- Chico Buarque\\n- Chico Science & Nação Zumbi\\n- Christina Aguilera featuring BigElf\\n- Christopher O\\'Riley\\n- Cláudio Zoli\\n- Corinne Bailey Rae\\n- Cássia Eller\\n- DJ Dolores & Orchestra Santa Massa\\n- Def Leppard\\n- Dhani Harrison & Jakob Dylan\\n- Djavan\\n- Ed Motta\\n- Edson, DJ Marky & DJ Patife Featuring Fernanda Porto\\n- Elis Regina\\n- Eugene Ormandy\\n- Faith No More\\n- Falamansa\\n- Fernanda Porto\\n- Funk Como Le Gusta\\n- Gene Krupa\\n- Gerald Moore\\n- Gilberto Gil\\n- Gonzaguinha\\n- Guns N\\' Roses\\n- Gustavo & Andres Veiga & Salazar\\n- Hermeto Pascoal\\n- Heroes\\n- Instituto\\n- Iron Maiden\\n- Jack Johnson\\n- Jack\\'s Mannequin & Mick Fleetwood\\n- Jackson Browne\\n- Jaguares\\n- Joe Satriani\\n- Jorge Ben\\n- Jorge Vercilo\\n- Jota Quest\\n- João Gilberto\\n- Judas Priest\\n- Kid Abelha\\n- Lenny Kravitz\\n- Los Hermanos\\n- Los Lonely Boys\\n- Lost\\n- Luiz Melodia\\n- Lulu Santos\\n- Marvin Gaye\\n- Matisyahu\\n- Men At Work\\n- Michael Tilson Thomas & San Francisco Symphony\\n- Michele Campanella\\n- Milton Nascimento & Bebeto\\n- Motörhead & Girlschool\\n- Mundo Livre S/A\\n- Nando Reis\\n- Nação Zumbi\\n- Nega Gizza\\n- Ney Matogrosso\\n- O Rappa\\n- O Terço\\n- Olodum\\n- Os Cariocas\\n- Os Paralamas Do Sucesso\\n- Otto\\n- Ozzy Osbourne\\n- Pedro Luís & A Parede\\n- Pedro Luís E A Parede\\n- Peter Tosh\\n- Philharmonia Orchestra & Sir Neville Marriner\\n- Planet Hemp\\n- R.E.M. Feat. KRS-One\\n- Raul Seixas\\n- Regina Spektor\\n- Rodox\\n- Sabotage E Instituto\\n- Sandra De Sá\\n- Santana\\n- Santana Feat. Dave Matthews\\n- Santana Feat. Eagle-Eye Cherry\\n- Santana Feat. Eric Clapton\\n- Santana Feat. Everlast\\n- Santana Feat. Lauryn Hill & Cee-Lo\\n- Santana Feat. Maná\\n- Santana Feat. Rob Thomas\\n- Santana Feat. The Project G&B\\n- Scorpions\\n- Seu Jorge\\n- Simply Red\\n- Snow Patrol\\n- Spyro Gyra\\n- Stereo Maracana\\n- Temple of the Dog\\n- The Cult\\n- The Flaming Lips\\n- The Office\\n- The Postal Service\\n- Tim Maia\\n- Toquinho & Vinícius\\n- U2\\n- UB40\\n- Various Artists\\n- Vinicius, Toquinho & Quarteto Em Cy\\n- Vinícius De Moraes\\n- Vinícius De Moraes & Baden Powell\\n- Vinícius E Odette Lara\\n- Vinícius E Qurteto Em Cy\\n- Whitesnake\\n- Xis\\n- Youssou N\\'Dour\\nHuman: How many artists compose their own tracks and how many don\\'t?\\nAI: 2525 artists compose their own tracks and 978 artists don\\'t compose their own tracks.\\nHuman: How many distinct artists compose their own tracks and how many don\\'t?\\nAI: There are 357 distinct artists who compose their own tracks, and there are 82 artists who do not compose their own tracks.\\nHuman: Which track with the same artist and composer has the highest revenue?\\nAI: The track with the same artist and composer that has the highest revenue is \"The Woman King\" with a revenue of 3.98.\\nHuman: Which track has the highest revenue where the artist is also the composer?\\nAI: The track with the highest revenue where the artist is also the composer is \"Inject The Venom\" by Angus Young, Malcolm Young, and Brian Johnson. The revenue for this track is 1.98.\\nHuman: Which track has the highest revenue where the artist\\'s name is the same as composer\\'s name?\\nAI: There is no track in the database where the artist\\'s name is the same as the composer\\'s name.\\nHuman: Which track has the highest revenue where ArtistName=Composer?\\nAI: There is no track in the database where the ArtistName is equal to the Composer.\\nHuman: Which track has the highest revenue where the artist is himself the composer?\\nAI: The track with the highest revenue where the artist is also the composer is \"Inject The Venom\" with a total revenue of 1.98.\\nHuman: How many distinct artists compose their own tracks and how many don\\'t?\\nAI: There are 41 artists who compose their own tracks, and 234 artists who do not compose their own tracks.\\nHuman: Which track has the highest revenue where the artist is himself the composer?\\nAI: The track with the highest revenue where the artist is himself the composer is \"Overdose\" with a revenue of 1.98.\\nHuman: Which track has the highest total revenue where the artist is himself the composer?\\nAI: The track with the highest total revenue where the artist is himself the composer is \"Overdose\" with a total revenue of 1.98.\\nHuman: Which track has the highest total revenue where the artist and composer are same?\\nAI: The track with the highest total revenue where the artist and composer are the same is \"Overdose\" with a total revenue of 1.98.\\nHuman: Which track has the highest total revenue where the artist and composer are same?\\nAI: The track with the highest total revenue where the artist and composer are the same is \"Overdose\" with a total revenue of 1.98.\\nHuman: Which track has the highest total revenue where the artist and composer are same?\\nAI: The track \"Release\" by the artist \"The Tea Party\" has the highest total revenue where the artist and composer are the same.\\nHuman: Did customers in Argentina make us more money than Brazil?\\nAI: No, customers in Argentina did not make us more money than Brazil. The total revenue from customers in Argentina is $37.62, while the total revenue from customers in Brazil is $190.10.\\nHuman: Based on the birth months of the employees, display how much revenue was recorded for each birth month.\\nAI: The revenue recorded for each birth month is as follows:\\n- March: $720.16\\n- August: $833.04\\n- September: $775.40',\n",
              " 'result': 'The sales are fluctuating month over month. There is no consistent trend of sales going up or down.'}"
            ]
          },
          "metadata": {},
          "execution_count": 296
        }
      ]
    }
  ]
}